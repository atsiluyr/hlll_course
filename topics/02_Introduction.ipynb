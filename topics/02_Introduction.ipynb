{
  "nbformat": 4,
  "nbformat_minor": 0,
  "metadata": {
    "kernelspec": {
      "display_name": "Python 3",
      "language": "python",
      "name": "python3"
    },
    "language_info": {
      "codemirror_mode": {
        "name": "ipython",
        "version": 3
      },
      "file_extension": ".py",
      "mimetype": "text/x-python",
      "name": "python",
      "nbconvert_exporter": "python",
      "pygments_lexer": "ipython3",
      "version": "3.6.7"
    },
    "colab": {
      "name": "02_Introduction.ipynb",
      "version": "0.3.2",
      "provenance": [],
      "include_colab_link": true
    }
  },
  "cells": [
    {
      "cell_type": "markdown",
      "metadata": {
        "id": "view-in-github",
        "colab_type": "text"
      },
      "source": [
        "<a href=\"https://colab.research.google.com/github/korobool/hlll_course/blob/master/topics/02_Introduction.ipynb\" target=\"_parent\"><img src=\"https://colab.research.google.com/assets/colab-badge.svg\" alt=\"Open In Colab\"/></a>"
      ]
    },
    {
      "cell_type": "markdown",
      "metadata": {
        "id": "MP1vzWA12Hdl",
        "colab_type": "text"
      },
      "source": [
        "|  **hillel, DS 2019**  | ![hillel](https://github.com/korobool/hlll_course/blob/master/topics/img/hillel.png?raw=1) |\n",
        "|---|---|\n",
        "| Oleksandr Korobov | korobov.alex@gmail.com, ai-labs.org |\n"
      ]
    },
    {
      "cell_type": "markdown",
      "metadata": {
        "id": "o6MJ6gy82Hdn",
        "colab_type": "text"
      },
      "source": [
        "### Plan\n",
        "* general discussion on AI, ML and DatsScience itself\n",
        "* Working Environment and suggestions\n",
        "    * python and virtualenvs\n",
        "    * unix utils\n",
        "    * running jupyter locally\n",
        "    * using google colab\n",
        "* Discussion about Types of ML\n",
        "    * supervised\n",
        "    * unsupervised\n",
        "    * semisupervise\n",
        "    * reinforcement\n",
        "* meet numpy\n",
        "* meet pandas\n",
        "* meet scikit-learn\n"
      ]
    },
    {
      "cell_type": "markdown",
      "metadata": {
        "id": "R6UUZdIF2Hdo",
        "colab_type": "text"
      },
      "source": [
        "#### general discussion on AI, ML and DatsScience in particular\n",
        "See general presentation [here](https://docs.google.com/presentation/d/13QxqCJnxzCvZe4IJZcvEh91x1WrnaJeoCQmD8ki780Y/edit?usp=sharing)"
      ]
    },
    {
      "cell_type": "markdown",
      "metadata": {
        "id": "3ROx9sgp2Hdp",
        "colab_type": "text"
      },
      "source": [
        "#### Working Environment and suggestions\n",
        "\n",
        "See presentation [here](https://docs.google.com/presentation/d/1nA1kR460Cs_QVJNvIGAyMOjh3eyxTaBxquwd1d6czso/edit?usp=sharing)\n"
      ]
    },
    {
      "cell_type": "markdown",
      "metadata": {
        "id": "wJw6eddQ2Hdq",
        "colab_type": "text"
      },
      "source": [
        "#### Discussion about Types of ML\n",
        "See presentation [here](https://docs.google.com/presentation/d/17b-kdMyMOmB7oogO286_643xMlR3B5UWMKnZgZTvAqE/edit?usp=sharing)"
      ]
    },
    {
      "cell_type": "markdown",
      "metadata": {
        "id": "fekiD64R2Hdr",
        "colab_type": "text"
      },
      "source": [
        "# meet numpy\n",
        "\n",
        "see [this](https://cloudxlab.com/blog/numpy-pandas-introduction/)"
      ]
    },
    {
      "cell_type": "code",
      "metadata": {
        "id": "IipRWPCZ2Hdr",
        "colab_type": "code",
        "colab": {
          "base_uri": "https://localhost:8080/",
          "height": 35
        },
        "outputId": "382af8c8-c7de-4a62-880d-1795d10dd7f7"
      },
      "source": [
        "!pip install numpy"
      ],
      "execution_count": 55,
      "outputs": [
        {
          "output_type": "stream",
          "text": [
            "Requirement already satisfied: numpy in /usr/local/lib/python3.6/dist-packages (1.16.4)\n"
          ],
          "name": "stdout"
        }
      ]
    },
    {
      "cell_type": "markdown",
      "metadata": {
        "id": "6gFZD3pR2Hdv",
        "colab_type": "text"
      },
      "source": [
        "##### NumPy Arrays\n",
        "A NumPy array is simply a grid that contains values of the same type. NumPy Arrays come in two forms; Vectors and Matrices. Vectors are strictly one-dimensional(1-d) arrays, while Matrices are multidimensional. In some cases, Matrices can still have only one row or one column."
      ]
    },
    {
      "cell_type": "code",
      "metadata": {
        "id": "Nyj8A51g2Hdw",
        "colab_type": "code",
        "colab": {}
      },
      "source": [
        "import numpy as np"
      ],
      "execution_count": 0,
      "outputs": []
    },
    {
      "cell_type": "markdown",
      "metadata": {
        "id": "hyxS6CoG2Hdz",
        "colab_type": "text"
      },
      "source": [
        "Creating numpy arrays from python lists\n",
        "\n",
        "Say we have a Python list:"
      ]
    },
    {
      "cell_type": "code",
      "metadata": {
        "id": "Cfw4caic2Hd0",
        "colab_type": "code",
        "colab": {}
      },
      "source": [
        "my_list = [1, 2, 3, 4, 5]"
      ],
      "execution_count": 0,
      "outputs": []
    },
    {
      "cell_type": "markdown",
      "metadata": {
        "id": "Le80WvLb2Hd3",
        "colab_type": "text"
      },
      "source": [
        "We can simply create a NumPy array called my_numpy_list and display the result:"
      ]
    },
    {
      "cell_type": "code",
      "metadata": {
        "id": "EdgDaDTU2Hd4",
        "colab_type": "code",
        "colab": {
          "base_uri": "https://localhost:8080/",
          "height": 35
        },
        "outputId": "d71fa53e-199b-42cd-d81e-061f7c264015"
      },
      "source": [
        "my_numpy_list = np.array(my_list)\n",
        "my_numpy_list  #This line show the result of the array generated"
      ],
      "execution_count": 58,
      "outputs": [
        {
          "output_type": "execute_result",
          "data": {
            "text/plain": [
              "array([1, 2, 3, 4, 5])"
            ]
          },
          "metadata": {
            "tags": []
          },
          "execution_count": 58
        }
      ]
    },
    {
      "cell_type": "markdown",
      "metadata": {
        "id": "wdrk1tAK2Hd7",
        "colab_type": "text"
      },
      "source": [
        "What we have just done is casting a python list into a one-dimensional array. To get a 2-dimensional array, we have to cast a list of list as shown below."
      ]
    },
    {
      "cell_type": "code",
      "metadata": {
        "id": "qPnV3bdx2Hd8",
        "colab_type": "code",
        "colab": {
          "base_uri": "https://localhost:8080/",
          "height": 69
        },
        "outputId": "5078aee8-c2ca-49b6-e762-aeb0892d51f8"
      },
      "source": [
        "second_list = [[1,2,3], [5,4,1], [3,6,7]]\n",
        "new_2d_arr = np.array(second_list)\n",
        "new_2d_arr  #This line show the result of the array generated\n"
      ],
      "execution_count": 59,
      "outputs": [
        {
          "output_type": "execute_result",
          "data": {
            "text/plain": [
              "array([[1, 2, 3],\n",
              "       [5, 4, 1],\n",
              "       [3, 6, 7]])"
            ]
          },
          "metadata": {
            "tags": []
          },
          "execution_count": 59
        }
      ]
    },
    {
      "cell_type": "markdown",
      "metadata": {
        "id": "-9gZBl3f2Hd_",
        "colab_type": "text"
      },
      "source": [
        "Creating NumPy array using arange() built-in function.\n",
        "\n",
        "Similar to the python built-in range() function, we will create a NumPy array using arange()."
      ]
    },
    {
      "cell_type": "code",
      "metadata": {
        "id": "7kgWcUnl2HeA",
        "colab_type": "code",
        "colab": {
          "base_uri": "https://localhost:8080/",
          "height": 35
        },
        "outputId": "b3f1851d-0132-4f2a-8b6c-b8c32a02e27b"
      },
      "source": [
        "my_list = np.arange(10)\n",
        "my_list"
      ],
      "execution_count": 60,
      "outputs": [
        {
          "output_type": "execute_result",
          "data": {
            "text/plain": [
              "array([0, 1, 2, 3, 4, 5, 6, 7, 8, 9])"
            ]
          },
          "metadata": {
            "tags": []
          },
          "execution_count": 60
        }
      ]
    },
    {
      "cell_type": "code",
      "metadata": {
        "id": "cKR6YF9O2HeD",
        "colab_type": "code",
        "colab": {
          "base_uri": "https://localhost:8080/",
          "height": 35
        },
        "outputId": "1c36f174-abfa-49b4-c990-e6598c597c74"
      },
      "source": [
        "my_list = np.arange(0,10)\n",
        "my_list"
      ],
      "execution_count": 61,
      "outputs": [
        {
          "output_type": "execute_result",
          "data": {
            "text/plain": [
              "array([0, 1, 2, 3, 4, 5, 6, 7, 8, 9])"
            ]
          },
          "metadata": {
            "tags": []
          },
          "execution_count": 61
        }
      ]
    },
    {
      "cell_type": "code",
      "metadata": {
        "id": "WSgS8u6r2HeH",
        "colab_type": "code",
        "colab": {
          "base_uri": "https://localhost:8080/",
          "height": 35
        },
        "outputId": "f25853aa-8cc0-461d-cdd2-3aede9b2b6e8"
      },
      "source": [
        "my_list = np.arange(0,11,2)\n",
        "my_list"
      ],
      "execution_count": 62,
      "outputs": [
        {
          "output_type": "execute_result",
          "data": {
            "text/plain": [
              "array([ 0,  2,  4,  6,  8, 10])"
            ]
          },
          "metadata": {
            "tags": []
          },
          "execution_count": 62
        }
      ]
    },
    {
      "cell_type": "code",
      "metadata": {
        "id": "CZPOn2E22HeL",
        "colab_type": "code",
        "colab": {
          "base_uri": "https://localhost:8080/",
          "height": 35
        },
        "outputId": "385412ed-fc17-4d2a-a2c4-0322e50560d8"
      },
      "source": [
        "my_zeros = np.zeros(7)\n",
        "my_zeros"
      ],
      "execution_count": 63,
      "outputs": [
        {
          "output_type": "execute_result",
          "data": {
            "text/plain": [
              "array([0., 0., 0., 0., 0., 0., 0.])"
            ]
          },
          "metadata": {
            "tags": []
          },
          "execution_count": 63
        }
      ]
    },
    {
      "cell_type": "code",
      "metadata": {
        "id": "oQUU-v2D2HeO",
        "colab_type": "code",
        "colab": {
          "base_uri": "https://localhost:8080/",
          "height": 35
        },
        "outputId": "138b91af-f327-47e5-e1c1-0ff0f78e925d"
      },
      "source": [
        "my_ones = np.ones(5)\n",
        "my_ones"
      ],
      "execution_count": 64,
      "outputs": [
        {
          "output_type": "execute_result",
          "data": {
            "text/plain": [
              "array([1., 1., 1., 1., 1.])"
            ]
          },
          "metadata": {
            "tags": []
          },
          "execution_count": 64
        }
      ]
    },
    {
      "cell_type": "code",
      "metadata": {
        "id": "8ZgNf7G52HeR",
        "colab_type": "code",
        "colab": {
          "base_uri": "https://localhost:8080/",
          "height": 69
        },
        "outputId": "105cf301-92cf-406f-c18f-9c8884e54b58"
      },
      "source": [
        "two_d = np.zeros((3,5))\n",
        "two_d"
      ],
      "execution_count": 68,
      "outputs": [
        {
          "output_type": "execute_result",
          "data": {
            "text/plain": [
              "array([[0., 0., 0., 0., 0.],\n",
              "       [0., 0., 0., 0., 0.],\n",
              "       [0., 0., 0., 0., 0.]])"
            ]
          },
          "metadata": {
            "tags": []
          },
          "execution_count": 68
        }
      ]
    },
    {
      "cell_type": "markdown",
      "metadata": {
        "id": "p2xp7ePL2HeU",
        "colab_type": "text"
      },
      "source": [
        "**Creating NumPy array using linspace() built-in function.**\n",
        "\n",
        "The linspace() function returns numbers evenly spaced over a specified intervals. Say we want 15 evenly spaced points from 1 to 3, we can easily use:"
      ]
    },
    {
      "cell_type": "code",
      "metadata": {
        "id": "K4NPbFQr2HeV",
        "colab_type": "code",
        "colab": {
          "base_uri": "https://localhost:8080/",
          "height": 277
        },
        "outputId": "f693e030-8d70-403a-a32f-0b6c9a7112cd"
      },
      "source": [
        "lin_arr = np.linspace(1, 3, 15)\n",
        "for item in lin_arr:\n",
        "    print(item)"
      ],
      "execution_count": 69,
      "outputs": [
        {
          "output_type": "stream",
          "text": [
            "1.0\n",
            "1.1428571428571428\n",
            "1.2857142857142856\n",
            "1.4285714285714286\n",
            "1.5714285714285714\n",
            "1.7142857142857142\n",
            "1.8571428571428572\n",
            "2.0\n",
            "2.142857142857143\n",
            "2.2857142857142856\n",
            "2.4285714285714284\n",
            "2.571428571428571\n",
            "2.7142857142857144\n",
            "2.8571428571428568\n",
            "3.0\n"
          ],
          "name": "stdout"
        }
      ]
    },
    {
      "cell_type": "markdown",
      "metadata": {
        "id": "KRbkhyun2HeY",
        "colab_type": "text"
      },
      "source": [
        "This gives us a one dimensional vector.\n",
        "\n",
        "Unlike the arange() function which takes the third argument as the number of steps, linspace() takes the third argument as the number of datapoints to be created."
      ]
    },
    {
      "cell_type": "markdown",
      "metadata": {
        "id": "p4s-gffH2HeZ",
        "colab_type": "text"
      },
      "source": [
        "**Creating an identity matrix in NumPy**\n",
        "\n",
        "Identity matrices are very useful when dealing with linear algebras. Usually, is a two-dimensional square matrix. This means the number of row is equal to the number of column. One unique thing to note about identity matrix is that the diagonals are 1’s and everything else is 0. Identity matrices usually takes a single argument. Here’s how to create one."
      ]
    },
    {
      "cell_type": "code",
      "metadata": {
        "id": "DFyy2YcZ2HeZ",
        "colab_type": "code",
        "colab": {
          "base_uri": "https://localhost:8080/",
          "height": 121
        },
        "outputId": "f7807e4d-bdaa-4ff9-940b-ce06c319a71b"
      },
      "source": [
        "my_matrx = np.eye(6) \n",
        "my_matrx"
      ],
      "execution_count": 70,
      "outputs": [
        {
          "output_type": "execute_result",
          "data": {
            "text/plain": [
              "array([[1., 0., 0., 0., 0., 0.],\n",
              "       [0., 1., 0., 0., 0., 0.],\n",
              "       [0., 0., 1., 0., 0., 0.],\n",
              "       [0., 0., 0., 1., 0., 0.],\n",
              "       [0., 0., 0., 0., 1., 0.],\n",
              "       [0., 0., 0., 0., 0., 1.]])"
            ]
          },
          "metadata": {
            "tags": []
          },
          "execution_count": 70
        }
      ]
    },
    {
      "cell_type": "markdown",
      "metadata": {
        "id": "qpZ6h5Wh2Hec",
        "colab_type": "text"
      },
      "source": [
        "Generating an array of random numbers in NumPy\n",
        "\n",
        "We can generate an array of random numbers using rand(), randn() or randint() functions."
      ]
    },
    {
      "cell_type": "code",
      "metadata": {
        "id": "EeQJq7lh2Hed",
        "colab_type": "code",
        "colab": {
          "base_uri": "https://localhost:8080/",
          "height": 35
        },
        "outputId": "c648594a-0dd4-4cb4-b18e-0a2b100362f4"
      },
      "source": [
        "my_rand = np.random.rand(4)\n",
        "my_rand"
      ],
      "execution_count": 71,
      "outputs": [
        {
          "output_type": "execute_result",
          "data": {
            "text/plain": [
              "array([0.8139569 , 0.93703696, 0.66392324, 0.05480055])"
            ]
          },
          "metadata": {
            "tags": []
          },
          "execution_count": 71
        }
      ]
    },
    {
      "cell_type": "code",
      "metadata": {
        "id": "lIGJJDSk2Heg",
        "colab_type": "code",
        "colab": {
          "base_uri": "https://localhost:8080/",
          "height": 104
        },
        "outputId": "a31908e1-665d-47e7-be16-a62adfa33a52"
      },
      "source": [
        "my_rand = np.random.rand(5, 4)\n",
        "my_rand"
      ],
      "execution_count": 72,
      "outputs": [
        {
          "output_type": "execute_result",
          "data": {
            "text/plain": [
              "array([[0.12498869, 0.57201967, 0.7386361 , 0.75980562],\n",
              "       [0.23736424, 0.58514744, 0.95324952, 0.73363039],\n",
              "       [0.6530965 , 0.66284864, 0.09050185, 0.03144173],\n",
              "       [0.83829302, 0.23043166, 0.44159075, 0.51473647],\n",
              "       [0.04005651, 0.28516392, 0.64435306, 0.69212644]])"
            ]
          },
          "metadata": {
            "tags": []
          },
          "execution_count": 72
        }
      ]
    },
    {
      "cell_type": "markdown",
      "metadata": {
        "id": "KR1tPCga2Hek",
        "colab_type": "text"
      },
      "source": [
        "Using randn(), we can generate random samples from Standard, normal or Gaussian distribution centered around 0. For example, let’s generate 7 random numbers:"
      ]
    },
    {
      "cell_type": "code",
      "metadata": {
        "id": "D7iQdv052Hel",
        "colab_type": "code",
        "colab": {
          "base_uri": "https://localhost:8080/",
          "height": 52
        },
        "outputId": "14cda479-d838-4ce7-f476-2c529cd9c33b"
      },
      "source": [
        "my_randn = np.random.randn(7)\n",
        "my_randn"
      ],
      "execution_count": 73,
      "outputs": [
        {
          "output_type": "execute_result",
          "data": {
            "text/plain": [
              "array([ 1.45738724, -0.56724664,  1.52893868, -1.7046698 , -0.7243397 ,\n",
              "        2.42104074,  0.31611302])"
            ]
          },
          "metadata": {
            "tags": []
          },
          "execution_count": 73
        }
      ]
    },
    {
      "cell_type": "code",
      "metadata": {
        "id": "oWxQCXPI2Heq",
        "colab_type": "code",
        "colab": {
          "base_uri": "https://localhost:8080/",
          "height": 69
        },
        "outputId": "340c5b6b-20b1-4ae3-e4de-1563f463ab72"
      },
      "source": [
        "np.random.randn(3, 5)"
      ],
      "execution_count": 74,
      "outputs": [
        {
          "output_type": "execute_result",
          "data": {
            "text/plain": [
              "array([[-0.82039521, -0.66645418, -0.1709153 , -1.19021727, -1.45866799],\n",
              "       [-0.39271362,  0.13260279, -0.79123418, -0.90464195, -0.71176029],\n",
              "       [-0.02454381,  0.99020947, -0.86112536, -1.78081735, -1.20430542]])"
            ]
          },
          "metadata": {
            "tags": []
          },
          "execution_count": 74
        }
      ]
    },
    {
      "cell_type": "markdown",
      "metadata": {
        "id": "-3UcpxtT2Heu",
        "colab_type": "text"
      },
      "source": [
        "Lastly, we can use the randint() function to generate an array of integers. The randint() function can take up to 3 arguments; the low(inclusive), high(exclusive) and size of the array."
      ]
    },
    {
      "cell_type": "code",
      "metadata": {
        "id": "Qj5AZHFN2Hev",
        "colab_type": "code",
        "colab": {
          "base_uri": "https://localhost:8080/",
          "height": 35
        },
        "outputId": "ef1c28e0-4b8c-41ba-aac8-ef957799811d"
      },
      "source": [
        "np.random.randint(20) #generates a random integer exclusive of 20"
      ],
      "execution_count": 75,
      "outputs": [
        {
          "output_type": "execute_result",
          "data": {
            "text/plain": [
              "18"
            ]
          },
          "metadata": {
            "tags": []
          },
          "execution_count": 75
        }
      ]
    },
    {
      "cell_type": "code",
      "metadata": {
        "id": "mYWeY_j42Hey",
        "colab_type": "code",
        "colab": {
          "base_uri": "https://localhost:8080/",
          "height": 35
        },
        "outputId": "39f20f2f-c500-4bff-9ab6-8dd94a749119"
      },
      "source": [
        "\n",
        "np.random.randint(2, 20) #generates a random integer including 2 but excluding 20"
      ],
      "execution_count": 76,
      "outputs": [
        {
          "output_type": "execute_result",
          "data": {
            "text/plain": [
              "14"
            ]
          },
          "metadata": {
            "tags": []
          },
          "execution_count": 76
        }
      ]
    },
    {
      "cell_type": "code",
      "metadata": {
        "id": "nA4yB5OK2He2",
        "colab_type": "code",
        "colab": {
          "base_uri": "https://localhost:8080/",
          "height": 35
        },
        "outputId": "b1e01bb9-4862-4b78-d7b3-8b2267ffc15f"
      },
      "source": [
        "np.random.randint(2, 20, 7) #generates 7 random integers including 2 but excluding 20"
      ],
      "execution_count": 77,
      "outputs": [
        {
          "output_type": "execute_result",
          "data": {
            "text/plain": [
              "array([ 6,  5,  5, 15,  3, 16, 16])"
            ]
          },
          "metadata": {
            "tags": []
          },
          "execution_count": 77
        }
      ]
    },
    {
      "cell_type": "markdown",
      "metadata": {
        "id": "rbZKHOxe2He7",
        "colab_type": "text"
      },
      "source": [
        "**Converting one-dimensional array to two-dimensional**\n",
        "\n",
        "First, we generate a 1-d array of random 25 integers\n",
        "\n",
        "\n",
        "*Note: The reshape() can only convert to equal number or rows and columns and must together be equal to equal to the number of elements. In the example above, arr contained 25 elements hence can only be reshaped to a 5X5 matrix.*\n",
        "\n"
      ]
    },
    {
      "cell_type": "code",
      "metadata": {
        "id": "gKl1APXr2He8",
        "colab_type": "code",
        "colab": {
          "base_uri": "https://localhost:8080/",
          "height": 312
        },
        "outputId": "34cb03f3-fd62-42f7-ba11-6b055fec0bc9"
      },
      "source": [
        "arr = np.random.rand(25)\n",
        "print(arr, '\\n')\n",
        "print(arr.shape, '\\n')\n",
        "print('---------------------')\n",
        "reshaped = arr.reshape(5,5)\n",
        "print(reshaped, '\\n')\n",
        "print(reshaped.shape, '\\n')"
      ],
      "execution_count": 79,
      "outputs": [
        {
          "output_type": "stream",
          "text": [
            "[0.90863202 0.66989938 0.53114471 0.55948021 0.57569706 0.42747462\n",
            " 0.97047374 0.20321837 0.8416171  0.73170766 0.60568285 0.41678807\n",
            " 0.56993492 0.97571305 0.24919748 0.93390328 0.63693577 0.49759859\n",
            " 0.62400208 0.29006988 0.16533883 0.05832652 0.17966337 0.66936042\n",
            " 0.99804012] \n",
            "\n",
            "(25,) \n",
            "\n",
            "---------------------\n",
            "[[0.90863202 0.66989938 0.53114471 0.55948021 0.57569706]\n",
            " [0.42747462 0.97047374 0.20321837 0.8416171  0.73170766]\n",
            " [0.60568285 0.41678807 0.56993492 0.97571305 0.24919748]\n",
            " [0.93390328 0.63693577 0.49759859 0.62400208 0.29006988]\n",
            " [0.16533883 0.05832652 0.17966337 0.66936042 0.99804012]] \n",
            "\n",
            "(5, 5) \n",
            "\n"
          ],
          "name": "stdout"
        }
      ]
    },
    {
      "cell_type": "markdown",
      "metadata": {
        "id": "cDmxBsiD2He_",
        "colab_type": "text"
      },
      "source": [
        "**Locating the maximum and minimum values of a NumPy Array**\n",
        "\n",
        "Using the max(), and min(), we can get the maximum or minimum values in an array."
      ]
    },
    {
      "cell_type": "code",
      "metadata": {
        "id": "X3nsid0m2HfA",
        "colab_type": "code",
        "colab": {
          "base_uri": "https://localhost:8080/",
          "height": 121
        },
        "outputId": "c676fd80-c131-4dc5-fa68-51434c9aad7c"
      },
      "source": [
        "arr_2 = np.random.randint(3, 20, 10) \n",
        "\n",
        "print(arr_2, '\\n')\n",
        "\n",
        "print(arr_2.max()) #This gives the highest value in the array \n",
        "print(arr_2.min()) #This gives the lowest value in the array\n",
        "\n",
        "print(arr_2.argmax()) #This shows the index of the highest value in the array \n",
        "print(arr_2.argmin()) #This shows the index of the lowest value in the array\n"
      ],
      "execution_count": 80,
      "outputs": [
        {
          "output_type": "stream",
          "text": [
            "[15 19 19 10 17  9 13 17 11  4] \n",
            "\n",
            "19\n",
            "4\n",
            "1\n",
            "9\n"
          ],
          "name": "stdout"
        }
      ]
    },
    {
      "cell_type": "markdown",
      "metadata": {
        "id": "OOhpco8W2HfD",
        "colab_type": "text"
      },
      "source": [
        "Indexing/Selecting elements or groups of elements from a NumPy array\n",
        "\n",
        "Indexing NumPy arrays is similar to that of Python. You simply pass in the index you want."
      ]
    },
    {
      "cell_type": "code",
      "metadata": {
        "id": "_M3wDT052HfD",
        "colab_type": "code",
        "colab": {
          "base_uri": "https://localhost:8080/",
          "height": 35
        },
        "outputId": "b904e9ff-5ec2-40dd-b2ac-3267579418be"
      },
      "source": [
        "my_array = np.arange(0,11)\n",
        "my_array[8]  #This gives us the value of element at index 8"
      ],
      "execution_count": 81,
      "outputs": [
        {
          "output_type": "execute_result",
          "data": {
            "text/plain": [
              "8"
            ]
          },
          "metadata": {
            "tags": []
          },
          "execution_count": 81
        }
      ]
    },
    {
      "cell_type": "code",
      "metadata": {
        "id": "-q-uoNdv2HfG",
        "colab_type": "code",
        "colab": {
          "base_uri": "https://localhost:8080/",
          "height": 121
        },
        "outputId": "f8e680c0-2aa2-46fd-9f3c-5c6218957b76"
      },
      "source": [
        "print(my_array, '\\n\\n')\n",
        "print(my_array[2:6]) #This returns everything from index 2 to 6(exclusive)\n",
        "print(my_array[:6]) #This returns everything from index 0 to 6(exclusive)\n",
        "print(my_array[5:]) #This returns everything from index 5 to the end of the array."
      ],
      "execution_count": 82,
      "outputs": [
        {
          "output_type": "stream",
          "text": [
            "[ 0  1  2  3  4  5  6  7  8  9 10] \n",
            "\n",
            "\n",
            "[2 3 4 5]\n",
            "[0 1 2 3 4 5]\n",
            "[ 5  6  7  8  9 10]\n"
          ],
          "name": "stdout"
        }
      ]
    },
    {
      "cell_type": "code",
      "metadata": {
        "id": "Wbv6Duc02HfI",
        "colab_type": "code",
        "colab": {
          "base_uri": "https://localhost:8080/",
          "height": 243
        },
        "outputId": "d0c0e156-0ced-4991-c2a0-16899c3c1617"
      },
      "source": [
        "two_d_arr = np.array([[10,20,30], [40,50,60], [70,80,90]])\n",
        "print(two_d_arr, '\\n')\n",
        "print(two_d_arr[1][2], '\\n')\n",
        "print(two_d_arr[0,1], '\\n')\n",
        "print(two_d_arr[1:3, :2], '\\n')\n",
        "print(two_d_arr[:,2], '\\n')"
      ],
      "execution_count": 83,
      "outputs": [
        {
          "output_type": "stream",
          "text": [
            "[[10 20 30]\n",
            " [40 50 60]\n",
            " [70 80 90]] \n",
            "\n",
            "60 \n",
            "\n",
            "20 \n",
            "\n",
            "[[40 50]\n",
            " [70 80]] \n",
            "\n",
            "[30 60 90] \n",
            "\n"
          ],
          "name": "stdout"
        }
      ]
    },
    {
      "cell_type": "markdown",
      "metadata": {
        "id": "GMEhm_8U2HfM",
        "colab_type": "text"
      },
      "source": [
        "**boolean**"
      ]
    },
    {
      "cell_type": "code",
      "metadata": {
        "id": "PCXHRLzk2HfP",
        "colab_type": "code",
        "colab": {
          "base_uri": "https://localhost:8080/",
          "height": 69
        },
        "outputId": "12e671be-14b2-4d9a-aa6f-3d44fb7cb254"
      },
      "source": [
        "two_d_arr = np.array([[10,20,30], [2,50,60], [70,7,90]])\n",
        "two_d_arr > 10"
      ],
      "execution_count": 84,
      "outputs": [
        {
          "output_type": "execute_result",
          "data": {
            "text/plain": [
              "array([[False,  True,  True],\n",
              "       [False,  True,  True],\n",
              "       [ True, False,  True]])"
            ]
          },
          "metadata": {
            "tags": []
          },
          "execution_count": 84
        }
      ]
    },
    {
      "cell_type": "markdown",
      "metadata": {
        "id": "xRn7gxmb2HfS",
        "colab_type": "text"
      },
      "source": [
        "**Performing arithmetic operations on NumPy Arrays**"
      ]
    },
    {
      "cell_type": "code",
      "metadata": {
        "id": "Ovpg3SfH2HfT",
        "colab_type": "code",
        "colab": {
          "base_uri": "https://localhost:8080/",
          "height": 641
        },
        "outputId": "ad858c59-8e75-4148-ad4f-86478e5b2e12"
      },
      "source": [
        "two_d_arr = np.array([[10,20,30], [40,50,60], [70,80,90]])\n",
        "print(two_d_arr, '\\n')\n",
        "\n",
        "print(two_d_arr / 10, '\\n')\n",
        "print(two_d_arr * 10, '\\n')\n",
        "print(two_d_arr + 10, '\\n')\n",
        "print(two_d_arr - 10, '\\n')\n",
        "\n",
        "print(two_d_arr * two_d_arr, '\\n')\n",
        "print(two_d_arr - two_d_arr, '\\n')\n",
        "print(two_d_arr + two_d_arr, '\\n')\n",
        "print(two_d_arr / two_d_arr, '\\n')\n",
        "\n"
      ],
      "execution_count": 86,
      "outputs": [
        {
          "output_type": "stream",
          "text": [
            "[[10 20 30]\n",
            " [40 50 60]\n",
            " [70 80 90]] \n",
            "\n",
            "[[1. 2. 3.]\n",
            " [4. 5. 6.]\n",
            " [7. 8. 9.]] \n",
            "\n",
            "[[100 200 300]\n",
            " [400 500 600]\n",
            " [700 800 900]] \n",
            "\n",
            "[[ 20  30  40]\n",
            " [ 50  60  70]\n",
            " [ 80  90 100]] \n",
            "\n",
            "[[ 0 10 20]\n",
            " [30 40 50]\n",
            " [60 70 80]] \n",
            "\n",
            "[[ 100  400  900]\n",
            " [1600 2500 3600]\n",
            " [4900 6400 8100]] \n",
            "\n",
            "[[0 0 0]\n",
            " [0 0 0]\n",
            " [0 0 0]] \n",
            "\n",
            "[[ 20  40  60]\n",
            " [ 80 100 120]\n",
            " [140 160 180]] \n",
            "\n",
            "[[1. 1. 1.]\n",
            " [1. 1. 1.]\n",
            " [1. 1. 1.]] \n",
            "\n"
          ],
          "name": "stdout"
        }
      ]
    },
    {
      "cell_type": "code",
      "metadata": {
        "id": "8CX3kOuS2HfV",
        "colab_type": "code",
        "colab": {
          "base_uri": "https://localhost:8080/",
          "height": 572
        },
        "outputId": "55c76b0d-632c-460a-d6e8-a5e3ab01d4e4"
      },
      "source": [
        "two_d_arr = np.array([[20,30], [40,60], [70,80]])\n",
        "print(two_d_arr, '\\n')\n",
        "\n",
        "#Returns the square root of each element \n",
        "print(np.sqrt(two_d_arr), '\\n')\n",
        "\n",
        "#Returns the exponentials of each element\n",
        "print(np.exp(two_d_arr), '\\n')\n",
        "\n",
        "#Returns the sin of each element\n",
        "print(np.sin(two_d_arr), '\\n')\n",
        "\n",
        "#Returns the cosine of each element\n",
        "print(np.cos(two_d_arr), '\\n')\n",
        "\n",
        "#Returns the logarithm of each element\n",
        "print(np.log(two_d_arr), '\\n')\n",
        "\n",
        "#Returns the sum total of elements in the array\n",
        "print(np.sum(two_d_arr), '\\n')\n",
        "\n",
        "print(two_d_arr.sum(axis=0), '\\n')  #Returns the sum of all the columns in mat\n",
        "print(two_d_arr.sum(axis=1), '\\n')  #Returns the sum of all the rows in mat\n",
        "\n",
        "#Returns the standard deviation of in the array\n",
        "print(np.std(two_d_arr), '\\n')\n",
        "\n"
      ],
      "execution_count": 87,
      "outputs": [
        {
          "output_type": "stream",
          "text": [
            "[[20 30]\n",
            " [40 60]\n",
            " [70 80]] \n",
            "\n",
            "[[4.47213595 5.47722558]\n",
            " [6.32455532 7.74596669]\n",
            " [8.36660027 8.94427191]] \n",
            "\n",
            "[[4.85165195e+08 1.06864746e+13]\n",
            " [2.35385267e+17 1.14200739e+26]\n",
            " [2.51543867e+30 5.54062238e+34]] \n",
            "\n",
            "[[ 0.91294525 -0.98803162]\n",
            " [ 0.74511316 -0.30481062]\n",
            " [ 0.77389068 -0.99388865]] \n",
            "\n",
            "[[ 0.40808206  0.15425145]\n",
            " [-0.66693806 -0.95241298]\n",
            " [ 0.6333192  -0.11038724]] \n",
            "\n",
            "[[2.99573227 3.40119738]\n",
            " [3.68887945 4.09434456]\n",
            " [4.24849524 4.38202663]] \n",
            "\n",
            "300 \n",
            "\n",
            "[130 170] \n",
            "\n",
            "[ 50 100 150] \n",
            "\n",
            "21.602468994692867 \n",
            "\n"
          ],
          "name": "stdout"
        }
      ]
    },
    {
      "cell_type": "markdown",
      "metadata": {
        "id": "vkd7Xk5_2HfX",
        "colab_type": "text"
      },
      "source": [
        "**NumPy arrays and broadcasting**\n",
        "\n",
        "![broadcasting](https://github.com/korobool/hlll_course/blob/master/topics/img/np_broadcast.png?raw=1)"
      ]
    },
    {
      "cell_type": "code",
      "metadata": {
        "id": "RqzQwC2O2HfY",
        "colab_type": "code",
        "colab": {
          "base_uri": "https://localhost:8080/",
          "height": 52
        },
        "outputId": "58888551-d0e7-4234-cc6a-a582ff3ce4a5"
      },
      "source": [
        "data = np.arange(3)\n",
        "print(data, '\\n')"
      ],
      "execution_count": 88,
      "outputs": [
        {
          "output_type": "stream",
          "text": [
            "[0 1 2] \n",
            "\n"
          ],
          "name": "stdout"
        }
      ]
    },
    {
      "cell_type": "code",
      "metadata": {
        "id": "ls6J_rl82Hfb",
        "colab_type": "code",
        "colab": {
          "base_uri": "https://localhost:8080/",
          "height": 52
        },
        "outputId": "bceb754e-9c6f-4a0a-d8b9-bbb73e45f4ea"
      },
      "source": [
        "print(data + 5, '\\n')"
      ],
      "execution_count": 89,
      "outputs": [
        {
          "output_type": "stream",
          "text": [
            "[5 6 7] \n",
            "\n"
          ],
          "name": "stdout"
        }
      ]
    },
    {
      "cell_type": "code",
      "metadata": {
        "id": "AXKX6m9j2Hfh",
        "colab_type": "code",
        "colab": {
          "base_uri": "https://localhost:8080/",
          "height": 69
        },
        "outputId": "3e8eaa0b-ef77-4948-ffce-6eb6597ddd10"
      },
      "source": [
        "np.ones((3,3)) + np.arange(3)"
      ],
      "execution_count": 90,
      "outputs": [
        {
          "output_type": "execute_result",
          "data": {
            "text/plain": [
              "array([[1., 2., 3.],\n",
              "       [1., 2., 3.],\n",
              "       [1., 2., 3.]])"
            ]
          },
          "metadata": {
            "tags": []
          },
          "execution_count": 90
        }
      ]
    },
    {
      "cell_type": "code",
      "metadata": {
        "id": "edIFZFxL2Hfo",
        "colab_type": "code",
        "colab": {
          "base_uri": "https://localhost:8080/",
          "height": 69
        },
        "outputId": "3adc11b5-279b-46b5-c882-4489174700ba"
      },
      "source": [
        "np.arange(3).reshape(3, 1) + np.arange(3)"
      ],
      "execution_count": 91,
      "outputs": [
        {
          "output_type": "execute_result",
          "data": {
            "text/plain": [
              "array([[0, 1, 2],\n",
              "       [1, 2, 3],\n",
              "       [2, 3, 4]])"
            ]
          },
          "metadata": {
            "tags": []
          },
          "execution_count": 91
        }
      ]
    },
    {
      "cell_type": "markdown",
      "metadata": {
        "id": "asvwAh2B2Hfr",
        "colab_type": "text"
      },
      "source": [
        "#### Linear Algebra Examples\n",
        "\n",
        "Solve the system of equations \n",
        "\n",
        "\n",
        "$\n",
        "\\begin{cases} 3x_0+x_1 = 9\\\\ x_0+2x_1 = 8 \\end{cases}\n",
        "$"
      ]
    },
    {
      "cell_type": "code",
      "metadata": {
        "id": "czpkm-n72Hfs",
        "colab_type": "code",
        "colab": {
          "base_uri": "https://localhost:8080/",
          "height": 35
        },
        "outputId": "5f872c31-e99f-4585-dcb7-0c9f5f5fe7d6"
      },
      "source": [
        "a = np.array([[3,1], [1,2]])\n",
        "b = np.array([9,8])\n",
        "x = np.linalg.solve(a, b)\n",
        "\n",
        "print(x)"
      ],
      "execution_count": 92,
      "outputs": [
        {
          "output_type": "stream",
          "text": [
            "[2. 3.]\n"
          ],
          "name": "stdout"
        }
      ]
    },
    {
      "cell_type": "markdown",
      "metadata": {
        "id": "y1eVk_dY2Hfu",
        "colab_type": "text"
      },
      "source": [
        "# meet pandas\n",
        "\n",
        "see [this](https://cloudxlab.com/blog/numpy-pandas-introduction/)"
      ]
    },
    {
      "cell_type": "markdown",
      "metadata": {
        "id": "rZYF1GNh2Hfv",
        "colab_type": "text"
      },
      "source": [
        "**Learning Objectives:**\n",
        "  * Gain an introduction to the `DataFrame` and `Series` data structures of the *pandas* library\n",
        "  * Access and manipulate data within a `DataFrame` and `Series`\n",
        "  * Import CSV data into a *pandas* `DataFrame`\n",
        "  * Reindex a `DataFrame` to shuffle data\n",
        "  \n",
        "  \n",
        "[*pandas*](http://pandas.pydata.org/) is a column-oriented data analysis API. It's a great tool for handling and analyzing input data, and many ML frameworks support *pandas* data structures as inputs.\n",
        "Although a comprehensive introduction to the *pandas* API would span many pages, the core concepts are fairly straightforward, and we'll present them below. For a more complete reference, the [*pandas* docs site](http://pandas.pydata.org/pandas-docs/stable/index.html) contains extensive documentation and many tutorials."
      ]
    },
    {
      "cell_type": "markdown",
      "metadata": {
        "id": "kTYmY2s92Hfw",
        "colab_type": "text"
      },
      "source": [
        "## Basic Concepts\n",
        "\n",
        "The following line imports the *pandas* API and prints the API version:"
      ]
    },
    {
      "cell_type": "code",
      "metadata": {
        "id": "2QqEfL6d2Hfw",
        "colab_type": "code",
        "colab": {}
      },
      "source": [
        "import pandas as pd"
      ],
      "execution_count": 0,
      "outputs": []
    },
    {
      "cell_type": "markdown",
      "metadata": {
        "id": "SDhw-p2k2Hfz",
        "colab_type": "text"
      },
      "source": [
        "The primary data structures in *pandas* are implemented as two classes:\n",
        "\n",
        "  * **`DataFrame`**, which you can imagine as a relational data table, with rows and named columns.\n",
        "  * **`Series`**, which is a single column. A `DataFrame` contains one or more `Series` and a name for each `Series`.\n",
        "\n",
        "The data frame is a commonly used abstraction for data manipulation. Similar implementations exist in [Spark](https://spark.apache.org/) and [R](https://www.r-project.org/about.html).\n",
        "\n",
        "One way to create a `Series` is to construct a `Series` object. For example:"
      ]
    },
    {
      "cell_type": "code",
      "metadata": {
        "id": "pyagpjby2Hf0",
        "colab_type": "code",
        "colab": {
          "base_uri": "https://localhost:8080/",
          "height": 87
        },
        "outputId": "07cb5ea4-2d66-4199-980d-9ddc8c322cf3"
      },
      "source": [
        "pd.Series(['San Francisco', 'San Jose', 'Sacramento'])"
      ],
      "execution_count": 94,
      "outputs": [
        {
          "output_type": "execute_result",
          "data": {
            "text/plain": [
              "0    San Francisco\n",
              "1         San Jose\n",
              "2       Sacramento\n",
              "dtype: object"
            ]
          },
          "metadata": {
            "tags": []
          },
          "execution_count": 94
        }
      ]
    },
    {
      "cell_type": "markdown",
      "metadata": {
        "id": "Ory2QtcY2Hf4",
        "colab_type": "text"
      },
      "source": [
        "`DataFrame` objects can be created by passing a `dict` mapping `string` column names to their respective `Series`. If the `Series` don't match in length, missing values are filled with special [NA/NaN](http://pandas.pydata.org/pandas-docs/stable/missing_data.html) values. Example:"
      ]
    },
    {
      "cell_type": "code",
      "metadata": {
        "id": "rXO0S6Bi2Hf8",
        "colab_type": "code",
        "colab": {
          "base_uri": "https://localhost:8080/",
          "height": 141
        },
        "outputId": "9ceee0de-9d2f-4dce-81a0-97271e34f729"
      },
      "source": [
        "city_names = pd.Series(['San Francisco', 'San Jose', 'Sacramento'])\n",
        "population = pd.Series([852469, 1015785, 485199])\n",
        "\n",
        "df_1 = pd.DataFrame({ 'City name': city_names, 'Population': population })\n",
        "df_1"
      ],
      "execution_count": 96,
      "outputs": [
        {
          "output_type": "execute_result",
          "data": {
            "text/html": [
              "<div>\n",
              "<style scoped>\n",
              "    .dataframe tbody tr th:only-of-type {\n",
              "        vertical-align: middle;\n",
              "    }\n",
              "\n",
              "    .dataframe tbody tr th {\n",
              "        vertical-align: top;\n",
              "    }\n",
              "\n",
              "    .dataframe thead th {\n",
              "        text-align: right;\n",
              "    }\n",
              "</style>\n",
              "<table border=\"1\" class=\"dataframe\">\n",
              "  <thead>\n",
              "    <tr style=\"text-align: right;\">\n",
              "      <th></th>\n",
              "      <th>City name</th>\n",
              "      <th>Population</th>\n",
              "    </tr>\n",
              "  </thead>\n",
              "  <tbody>\n",
              "    <tr>\n",
              "      <th>0</th>\n",
              "      <td>San Francisco</td>\n",
              "      <td>852469</td>\n",
              "    </tr>\n",
              "    <tr>\n",
              "      <th>1</th>\n",
              "      <td>San Jose</td>\n",
              "      <td>1015785</td>\n",
              "    </tr>\n",
              "    <tr>\n",
              "      <th>2</th>\n",
              "      <td>Sacramento</td>\n",
              "      <td>485199</td>\n",
              "    </tr>\n",
              "  </tbody>\n",
              "</table>\n",
              "</div>"
            ],
            "text/plain": [
              "       City name  Population\n",
              "0  San Francisco      852469\n",
              "1       San Jose     1015785\n",
              "2     Sacramento      485199"
            ]
          },
          "metadata": {
            "tags": []
          },
          "execution_count": 96
        }
      ]
    },
    {
      "cell_type": "code",
      "metadata": {
        "id": "aJzSxDk6O2s3",
        "colab_type": "code",
        "colab": {
          "base_uri": "https://localhost:8080/",
          "height": 141
        },
        "outputId": "a139a8dd-d864-41fa-b705-72df2929f42e"
      },
      "source": [
        "df_1['new_series'] = [3,4,5]\n",
        "df_1\n"
      ],
      "execution_count": 99,
      "outputs": [
        {
          "output_type": "execute_result",
          "data": {
            "text/html": [
              "<div>\n",
              "<style scoped>\n",
              "    .dataframe tbody tr th:only-of-type {\n",
              "        vertical-align: middle;\n",
              "    }\n",
              "\n",
              "    .dataframe tbody tr th {\n",
              "        vertical-align: top;\n",
              "    }\n",
              "\n",
              "    .dataframe thead th {\n",
              "        text-align: right;\n",
              "    }\n",
              "</style>\n",
              "<table border=\"1\" class=\"dataframe\">\n",
              "  <thead>\n",
              "    <tr style=\"text-align: right;\">\n",
              "      <th></th>\n",
              "      <th>City name</th>\n",
              "      <th>Population</th>\n",
              "      <th>new_series</th>\n",
              "    </tr>\n",
              "  </thead>\n",
              "  <tbody>\n",
              "    <tr>\n",
              "      <th>0</th>\n",
              "      <td>San Francisco</td>\n",
              "      <td>852469</td>\n",
              "      <td>3</td>\n",
              "    </tr>\n",
              "    <tr>\n",
              "      <th>1</th>\n",
              "      <td>San Jose</td>\n",
              "      <td>1015785</td>\n",
              "      <td>4</td>\n",
              "    </tr>\n",
              "    <tr>\n",
              "      <th>2</th>\n",
              "      <td>Sacramento</td>\n",
              "      <td>485199</td>\n",
              "      <td>5</td>\n",
              "    </tr>\n",
              "  </tbody>\n",
              "</table>\n",
              "</div>"
            ],
            "text/plain": [
              "       City name  Population  new_series\n",
              "0  San Francisco      852469           3\n",
              "1       San Jose     1015785           4\n",
              "2     Sacramento      485199           5"
            ]
          },
          "metadata": {
            "tags": []
          },
          "execution_count": 99
        }
      ]
    },
    {
      "cell_type": "markdown",
      "metadata": {
        "id": "GHZMOeH42Hf_",
        "colab_type": "text"
      },
      "source": [
        " most of the time, you load an entire file into a `DataFrame`. The following example loads a file with California housing data. Run the following cell to load the data and create feature definitions:"
      ]
    },
    {
      "cell_type": "code",
      "metadata": {
        "id": "UqTNSMLQ2HgA",
        "colab_type": "code",
        "colab": {
          "base_uri": "https://localhost:8080/",
          "height": 314
        },
        "outputId": "5c5ae82a-8f58-445d-9624-9beb60f24559"
      },
      "source": [
        "california_housing_dataframe = pd.read_csv(\"https://download.mlcc.google.com/mledu-datasets/california_housing_train.csv\", sep=\",\")\n",
        "california_housing_dataframe.describe()"
      ],
      "execution_count": 100,
      "outputs": [
        {
          "output_type": "execute_result",
          "data": {
            "text/html": [
              "<div>\n",
              "<style scoped>\n",
              "    .dataframe tbody tr th:only-of-type {\n",
              "        vertical-align: middle;\n",
              "    }\n",
              "\n",
              "    .dataframe tbody tr th {\n",
              "        vertical-align: top;\n",
              "    }\n",
              "\n",
              "    .dataframe thead th {\n",
              "        text-align: right;\n",
              "    }\n",
              "</style>\n",
              "<table border=\"1\" class=\"dataframe\">\n",
              "  <thead>\n",
              "    <tr style=\"text-align: right;\">\n",
              "      <th></th>\n",
              "      <th>longitude</th>\n",
              "      <th>latitude</th>\n",
              "      <th>housing_median_age</th>\n",
              "      <th>total_rooms</th>\n",
              "      <th>total_bedrooms</th>\n",
              "      <th>population</th>\n",
              "      <th>households</th>\n",
              "      <th>median_income</th>\n",
              "      <th>median_house_value</th>\n",
              "    </tr>\n",
              "  </thead>\n",
              "  <tbody>\n",
              "    <tr>\n",
              "      <th>count</th>\n",
              "      <td>17000.000000</td>\n",
              "      <td>17000.000000</td>\n",
              "      <td>17000.000000</td>\n",
              "      <td>17000.000000</td>\n",
              "      <td>17000.000000</td>\n",
              "      <td>17000.000000</td>\n",
              "      <td>17000.000000</td>\n",
              "      <td>17000.000000</td>\n",
              "      <td>17000.000000</td>\n",
              "    </tr>\n",
              "    <tr>\n",
              "      <th>mean</th>\n",
              "      <td>-119.562108</td>\n",
              "      <td>35.625225</td>\n",
              "      <td>28.589353</td>\n",
              "      <td>2643.664412</td>\n",
              "      <td>539.410824</td>\n",
              "      <td>1429.573941</td>\n",
              "      <td>501.221941</td>\n",
              "      <td>3.883578</td>\n",
              "      <td>207300.912353</td>\n",
              "    </tr>\n",
              "    <tr>\n",
              "      <th>std</th>\n",
              "      <td>2.005166</td>\n",
              "      <td>2.137340</td>\n",
              "      <td>12.586937</td>\n",
              "      <td>2179.947071</td>\n",
              "      <td>421.499452</td>\n",
              "      <td>1147.852959</td>\n",
              "      <td>384.520841</td>\n",
              "      <td>1.908157</td>\n",
              "      <td>115983.764387</td>\n",
              "    </tr>\n",
              "    <tr>\n",
              "      <th>min</th>\n",
              "      <td>-124.350000</td>\n",
              "      <td>32.540000</td>\n",
              "      <td>1.000000</td>\n",
              "      <td>2.000000</td>\n",
              "      <td>1.000000</td>\n",
              "      <td>3.000000</td>\n",
              "      <td>1.000000</td>\n",
              "      <td>0.499900</td>\n",
              "      <td>14999.000000</td>\n",
              "    </tr>\n",
              "    <tr>\n",
              "      <th>25%</th>\n",
              "      <td>-121.790000</td>\n",
              "      <td>33.930000</td>\n",
              "      <td>18.000000</td>\n",
              "      <td>1462.000000</td>\n",
              "      <td>297.000000</td>\n",
              "      <td>790.000000</td>\n",
              "      <td>282.000000</td>\n",
              "      <td>2.566375</td>\n",
              "      <td>119400.000000</td>\n",
              "    </tr>\n",
              "    <tr>\n",
              "      <th>50%</th>\n",
              "      <td>-118.490000</td>\n",
              "      <td>34.250000</td>\n",
              "      <td>29.000000</td>\n",
              "      <td>2127.000000</td>\n",
              "      <td>434.000000</td>\n",
              "      <td>1167.000000</td>\n",
              "      <td>409.000000</td>\n",
              "      <td>3.544600</td>\n",
              "      <td>180400.000000</td>\n",
              "    </tr>\n",
              "    <tr>\n",
              "      <th>75%</th>\n",
              "      <td>-118.000000</td>\n",
              "      <td>37.720000</td>\n",
              "      <td>37.000000</td>\n",
              "      <td>3151.250000</td>\n",
              "      <td>648.250000</td>\n",
              "      <td>1721.000000</td>\n",
              "      <td>605.250000</td>\n",
              "      <td>4.767000</td>\n",
              "      <td>265000.000000</td>\n",
              "    </tr>\n",
              "    <tr>\n",
              "      <th>max</th>\n",
              "      <td>-114.310000</td>\n",
              "      <td>41.950000</td>\n",
              "      <td>52.000000</td>\n",
              "      <td>37937.000000</td>\n",
              "      <td>6445.000000</td>\n",
              "      <td>35682.000000</td>\n",
              "      <td>6082.000000</td>\n",
              "      <td>15.000100</td>\n",
              "      <td>500001.000000</td>\n",
              "    </tr>\n",
              "  </tbody>\n",
              "</table>\n",
              "</div>"
            ],
            "text/plain": [
              "          longitude      latitude  ...  median_income  median_house_value\n",
              "count  17000.000000  17000.000000  ...   17000.000000        17000.000000\n",
              "mean    -119.562108     35.625225  ...       3.883578       207300.912353\n",
              "std        2.005166      2.137340  ...       1.908157       115983.764387\n",
              "min     -124.350000     32.540000  ...       0.499900        14999.000000\n",
              "25%     -121.790000     33.930000  ...       2.566375       119400.000000\n",
              "50%     -118.490000     34.250000  ...       3.544600       180400.000000\n",
              "75%     -118.000000     37.720000  ...       4.767000       265000.000000\n",
              "max     -114.310000     41.950000  ...      15.000100       500001.000000\n",
              "\n",
              "[8 rows x 9 columns]"
            ]
          },
          "metadata": {
            "tags": []
          },
          "execution_count": 100
        }
      ]
    },
    {
      "cell_type": "markdown",
      "metadata": {
        "id": "lPfCl7O02HgC",
        "colab_type": "text"
      },
      "source": [
        "The example above used `DataFrame.describe` to show interesting statistics about a `DataFrame`. Another useful function is `DataFrame.head`, which displays the first few records of a `DataFrame`:"
      ]
    },
    {
      "cell_type": "code",
      "metadata": {
        "id": "OdyghHb_2HgC",
        "colab_type": "code",
        "colab": {
          "base_uri": "https://localhost:8080/",
          "height": 202
        },
        "outputId": "b2f3cec8-0b6b-4f66-abfa-f65925aaf77c"
      },
      "source": [
        "california_housing_dataframe.head()"
      ],
      "execution_count": 101,
      "outputs": [
        {
          "output_type": "execute_result",
          "data": {
            "text/html": [
              "<div>\n",
              "<style scoped>\n",
              "    .dataframe tbody tr th:only-of-type {\n",
              "        vertical-align: middle;\n",
              "    }\n",
              "\n",
              "    .dataframe tbody tr th {\n",
              "        vertical-align: top;\n",
              "    }\n",
              "\n",
              "    .dataframe thead th {\n",
              "        text-align: right;\n",
              "    }\n",
              "</style>\n",
              "<table border=\"1\" class=\"dataframe\">\n",
              "  <thead>\n",
              "    <tr style=\"text-align: right;\">\n",
              "      <th></th>\n",
              "      <th>longitude</th>\n",
              "      <th>latitude</th>\n",
              "      <th>housing_median_age</th>\n",
              "      <th>total_rooms</th>\n",
              "      <th>total_bedrooms</th>\n",
              "      <th>population</th>\n",
              "      <th>households</th>\n",
              "      <th>median_income</th>\n",
              "      <th>median_house_value</th>\n",
              "    </tr>\n",
              "  </thead>\n",
              "  <tbody>\n",
              "    <tr>\n",
              "      <th>0</th>\n",
              "      <td>-114.31</td>\n",
              "      <td>34.19</td>\n",
              "      <td>15.0</td>\n",
              "      <td>5612.0</td>\n",
              "      <td>1283.0</td>\n",
              "      <td>1015.0</td>\n",
              "      <td>472.0</td>\n",
              "      <td>1.4936</td>\n",
              "      <td>66900.0</td>\n",
              "    </tr>\n",
              "    <tr>\n",
              "      <th>1</th>\n",
              "      <td>-114.47</td>\n",
              "      <td>34.40</td>\n",
              "      <td>19.0</td>\n",
              "      <td>7650.0</td>\n",
              "      <td>1901.0</td>\n",
              "      <td>1129.0</td>\n",
              "      <td>463.0</td>\n",
              "      <td>1.8200</td>\n",
              "      <td>80100.0</td>\n",
              "    </tr>\n",
              "    <tr>\n",
              "      <th>2</th>\n",
              "      <td>-114.56</td>\n",
              "      <td>33.69</td>\n",
              "      <td>17.0</td>\n",
              "      <td>720.0</td>\n",
              "      <td>174.0</td>\n",
              "      <td>333.0</td>\n",
              "      <td>117.0</td>\n",
              "      <td>1.6509</td>\n",
              "      <td>85700.0</td>\n",
              "    </tr>\n",
              "    <tr>\n",
              "      <th>3</th>\n",
              "      <td>-114.57</td>\n",
              "      <td>33.64</td>\n",
              "      <td>14.0</td>\n",
              "      <td>1501.0</td>\n",
              "      <td>337.0</td>\n",
              "      <td>515.0</td>\n",
              "      <td>226.0</td>\n",
              "      <td>3.1917</td>\n",
              "      <td>73400.0</td>\n",
              "    </tr>\n",
              "    <tr>\n",
              "      <th>4</th>\n",
              "      <td>-114.57</td>\n",
              "      <td>33.57</td>\n",
              "      <td>20.0</td>\n",
              "      <td>1454.0</td>\n",
              "      <td>326.0</td>\n",
              "      <td>624.0</td>\n",
              "      <td>262.0</td>\n",
              "      <td>1.9250</td>\n",
              "      <td>65500.0</td>\n",
              "    </tr>\n",
              "  </tbody>\n",
              "</table>\n",
              "</div>"
            ],
            "text/plain": [
              "   longitude  latitude  ...  median_income  median_house_value\n",
              "0    -114.31     34.19  ...         1.4936             66900.0\n",
              "1    -114.47     34.40  ...         1.8200             80100.0\n",
              "2    -114.56     33.69  ...         1.6509             85700.0\n",
              "3    -114.57     33.64  ...         3.1917             73400.0\n",
              "4    -114.57     33.57  ...         1.9250             65500.0\n",
              "\n",
              "[5 rows x 9 columns]"
            ]
          },
          "metadata": {
            "tags": []
          },
          "execution_count": 101
        }
      ]
    },
    {
      "cell_type": "markdown",
      "metadata": {
        "id": "lmJ7JWb_2HgF",
        "colab_type": "text"
      },
      "source": [
        "Another powerful feature of *pandas* is graphing. For example, `DataFrame.hist` lets you quickly study the distribution of values in a column:"
      ]
    },
    {
      "cell_type": "code",
      "metadata": {
        "id": "rtk0XgH_2HgG",
        "colab_type": "code",
        "colab": {
          "base_uri": "https://localhost:8080/",
          "height": 316
        },
        "outputId": "793d1280-e6f0-42ed-cb55-3b1a1481149a"
      },
      "source": [
        "%matplotlib inline\n",
        "california_housing_dataframe.hist('housing_median_age')"
      ],
      "execution_count": 102,
      "outputs": [
        {
          "output_type": "execute_result",
          "data": {
            "text/plain": [
              "array([[<matplotlib.axes._subplots.AxesSubplot object at 0x7f813a70fb70>]],\n",
              "      dtype=object)"
            ]
          },
          "metadata": {
            "tags": []
          },
          "execution_count": 102
        },
        {
          "output_type": "display_data",
          "data": {
            "image/png": "[encoded data removed]",
            "text/plain": [
              "<Figure size 432x288 with 1 Axes>"
            ]
          },
          "metadata": {
            "tags": []
          }
        }
      ]
    },
    {
      "cell_type": "markdown",
      "metadata": {
        "id": "-03JsU_V2HgK",
        "colab_type": "text"
      },
      "source": [
        "## Accessing Data\n",
        "\n",
        "You can access `DataFrame` data using familiar Python dict/list operations:"
      ]
    },
    {
      "cell_type": "code",
      "metadata": {
        "id": "LEzavsc82HgL",
        "colab_type": "code",
        "colab": {
          "base_uri": "https://localhost:8080/",
          "height": 104
        },
        "outputId": "9b4a1182-e82b-46cf-8a68-f347f821c6f5"
      },
      "source": [
        "cities = pd.DataFrame({ 'City name': city_names, 'Population': population })\n",
        "print(type(cities['City name']))\n",
        "cities['City name']"
      ],
      "execution_count": 103,
      "outputs": [
        {
          "output_type": "stream",
          "text": [
            "<class 'pandas.core.series.Series'>\n"
          ],
          "name": "stdout"
        },
        {
          "output_type": "execute_result",
          "data": {
            "text/plain": [
              "0    San Francisco\n",
              "1         San Jose\n",
              "2       Sacramento\n",
              "Name: City name, dtype: object"
            ]
          },
          "metadata": {
            "tags": []
          },
          "execution_count": 103
        }
      ]
    },
    {
      "cell_type": "code",
      "metadata": {
        "id": "KkdpBVL82HgO",
        "colab_type": "code",
        "colab": {
          "base_uri": "https://localhost:8080/",
          "height": 52
        },
        "outputId": "199a09a2-df05-4b6a-8465-2bd318d55092"
      },
      "source": [
        "print(type(cities['City name'][1]))\n",
        "cities['City name'][1]"
      ],
      "execution_count": 104,
      "outputs": [
        {
          "output_type": "stream",
          "text": [
            "<class 'str'>\n"
          ],
          "name": "stdout"
        },
        {
          "output_type": "execute_result",
          "data": {
            "text/plain": [
              "'San Jose'"
            ]
          },
          "metadata": {
            "tags": []
          },
          "execution_count": 104
        }
      ]
    },
    {
      "cell_type": "code",
      "metadata": {
        "id": "fhPnYiQ32HgR",
        "colab_type": "code",
        "colab": {
          "base_uri": "https://localhost:8080/",
          "height": 127
        },
        "outputId": "b47657f7-b785-43f7-e46f-b74beb7d7e6b"
      },
      "source": [
        "print(type(cities[0:2]))\n",
        "cities[0:2]"
      ],
      "execution_count": 105,
      "outputs": [
        {
          "output_type": "stream",
          "text": [
            "<class 'pandas.core.frame.DataFrame'>\n"
          ],
          "name": "stdout"
        },
        {
          "output_type": "execute_result",
          "data": {
            "text/html": [
              "<div>\n",
              "<style scoped>\n",
              "    .dataframe tbody tr th:only-of-type {\n",
              "        vertical-align: middle;\n",
              "    }\n",
              "\n",
              "    .dataframe tbody tr th {\n",
              "        vertical-align: top;\n",
              "    }\n",
              "\n",
              "    .dataframe thead th {\n",
              "        text-align: right;\n",
              "    }\n",
              "</style>\n",
              "<table border=\"1\" class=\"dataframe\">\n",
              "  <thead>\n",
              "    <tr style=\"text-align: right;\">\n",
              "      <th></th>\n",
              "      <th>City name</th>\n",
              "      <th>Population</th>\n",
              "    </tr>\n",
              "  </thead>\n",
              "  <tbody>\n",
              "    <tr>\n",
              "      <th>0</th>\n",
              "      <td>San Francisco</td>\n",
              "      <td>852469</td>\n",
              "    </tr>\n",
              "    <tr>\n",
              "      <th>1</th>\n",
              "      <td>San Jose</td>\n",
              "      <td>1015785</td>\n",
              "    </tr>\n",
              "  </tbody>\n",
              "</table>\n",
              "</div>"
            ],
            "text/plain": [
              "       City name  Population\n",
              "0  San Francisco      852469\n",
              "1       San Jose     1015785"
            ]
          },
          "metadata": {
            "tags": []
          },
          "execution_count": 105
        }
      ]
    },
    {
      "cell_type": "markdown",
      "metadata": {
        "id": "aKKVpZ0j2HgU",
        "colab_type": "text"
      },
      "source": [
        "In addition, *pandas* provides an extremely rich API for advanced [indexing and selection](http://pandas.pydata.org/pandas-docs/stable/indexing.html) that is too extensive to be covered here."
      ]
    },
    {
      "cell_type": "markdown",
      "metadata": {
        "id": "3NKQvQ2j2HgU",
        "colab_type": "text"
      },
      "source": [
        "## Manipulating Data\n",
        "\n",
        "You may apply Python's basic arithmetic operations to `Series`. For example:"
      ]
    },
    {
      "cell_type": "code",
      "metadata": {
        "id": "-7yC5l6r2HgV",
        "colab_type": "code",
        "colab": {
          "base_uri": "https://localhost:8080/",
          "height": 87
        },
        "outputId": "80f33ced-0b61-4581-f495-6721afa3fbdd"
      },
      "source": [
        "population / 1000."
      ],
      "execution_count": 106,
      "outputs": [
        {
          "output_type": "execute_result",
          "data": {
            "text/plain": [
              "0     852.469\n",
              "1    1015.785\n",
              "2     485.199\n",
              "dtype: float64"
            ]
          },
          "metadata": {
            "tags": []
          },
          "execution_count": 106
        }
      ]
    },
    {
      "cell_type": "markdown",
      "metadata": {
        "id": "npKtU3cJ2HgX",
        "colab_type": "text"
      },
      "source": [
        "as long as **NumPy** is a popular toolkit for scientific computing. pandas Series can be used as arguments to most NumPy functions:"
      ]
    },
    {
      "cell_type": "code",
      "metadata": {
        "id": "L8ICxZgu2HgX",
        "colab_type": "code",
        "colab": {
          "base_uri": "https://localhost:8080/",
          "height": 87
        },
        "outputId": "465fffdc-efce-483d-c5b2-5c56d922945c"
      },
      "source": [
        "np.log(population)"
      ],
      "execution_count": 107,
      "outputs": [
        {
          "output_type": "execute_result",
          "data": {
            "text/plain": [
              "0    13.655892\n",
              "1    13.831172\n",
              "2    13.092314\n",
              "dtype: float64"
            ]
          },
          "metadata": {
            "tags": []
          },
          "execution_count": 107
        }
      ]
    },
    {
      "cell_type": "markdown",
      "metadata": {
        "id": "0zxxKJRo2HgZ",
        "colab_type": "text"
      },
      "source": [
        "For more complex single-column transformations, you can use `Series.apply`. Like the Python [map function](https://docs.python.org/2/library/functions.html#map), \n",
        "`Series.apply` accepts as an argument a [lambda function](https://docs.python.org/2/tutorial/controlflow.html#lambda-expressions), which is applied to each value.\n",
        "\n",
        "The example below creates a new `Series` that indicates whether `population` is over one million:"
      ]
    },
    {
      "cell_type": "code",
      "metadata": {
        "id": "S8VYM9SX2Hga",
        "colab_type": "code",
        "colab": {
          "base_uri": "https://localhost:8080/",
          "height": 87
        },
        "outputId": "15a9dd5f-e097-4836-c33d-d8a290e960bb"
      },
      "source": [
        "population.apply(lambda val: val > 1000000)"
      ],
      "execution_count": 108,
      "outputs": [
        {
          "output_type": "execute_result",
          "data": {
            "text/plain": [
              "0    False\n",
              "1     True\n",
              "2    False\n",
              "dtype: bool"
            ]
          },
          "metadata": {
            "tags": []
          },
          "execution_count": 108
        }
      ]
    },
    {
      "cell_type": "markdown",
      "metadata": {
        "id": "Kp5YWnmZ2Hgc",
        "colab_type": "text"
      },
      "source": [
        "Modifying `DataFrames` is also straightforward. For example, the following code adds two `Series` to an existing `DataFrame`:"
      ]
    },
    {
      "cell_type": "code",
      "metadata": {
        "id": "BTT5xVRw2Hgc",
        "colab_type": "code",
        "colab": {
          "base_uri": "https://localhost:8080/",
          "height": 141
        },
        "outputId": "55287e06-ee9f-49ba-fe83-106fafc54728"
      },
      "source": [
        "cities['new col'] = cities['Population'].apply(lambda val: val/200)\n",
        "cities"
      ],
      "execution_count": 109,
      "outputs": [
        {
          "output_type": "execute_result",
          "data": {
            "text/html": [
              "<div>\n",
              "<style scoped>\n",
              "    .dataframe tbody tr th:only-of-type {\n",
              "        vertical-align: middle;\n",
              "    }\n",
              "\n",
              "    .dataframe tbody tr th {\n",
              "        vertical-align: top;\n",
              "    }\n",
              "\n",
              "    .dataframe thead th {\n",
              "        text-align: right;\n",
              "    }\n",
              "</style>\n",
              "<table border=\"1\" class=\"dataframe\">\n",
              "  <thead>\n",
              "    <tr style=\"text-align: right;\">\n",
              "      <th></th>\n",
              "      <th>City name</th>\n",
              "      <th>Population</th>\n",
              "      <th>new col</th>\n",
              "    </tr>\n",
              "  </thead>\n",
              "  <tbody>\n",
              "    <tr>\n",
              "      <th>0</th>\n",
              "      <td>San Francisco</td>\n",
              "      <td>852469</td>\n",
              "      <td>4262.345</td>\n",
              "    </tr>\n",
              "    <tr>\n",
              "      <th>1</th>\n",
              "      <td>San Jose</td>\n",
              "      <td>1015785</td>\n",
              "      <td>5078.925</td>\n",
              "    </tr>\n",
              "    <tr>\n",
              "      <th>2</th>\n",
              "      <td>Sacramento</td>\n",
              "      <td>485199</td>\n",
              "      <td>2425.995</td>\n",
              "    </tr>\n",
              "  </tbody>\n",
              "</table>\n",
              "</div>"
            ],
            "text/plain": [
              "       City name  Population   new col\n",
              "0  San Francisco      852469  4262.345\n",
              "1       San Jose     1015785  5078.925\n",
              "2     Sacramento      485199  2425.995"
            ]
          },
          "metadata": {
            "tags": []
          },
          "execution_count": 109
        }
      ]
    },
    {
      "cell_type": "code",
      "metadata": {
        "id": "hs9NR73f2Hgg",
        "colab_type": "code",
        "colab": {
          "base_uri": "https://localhost:8080/",
          "height": 141
        },
        "outputId": "a2755cff-8a6b-47f1-edcd-5e37acaf208a"
      },
      "source": [
        "cities['Area square miles'] = pd.Series([46.87, 176.53, 97.92])\n",
        "cities['Population density'] = cities['Population'] / cities['Area square miles']\n",
        "cities"
      ],
      "execution_count": 110,
      "outputs": [
        {
          "output_type": "execute_result",
          "data": {
            "text/html": [
              "<div>\n",
              "<style scoped>\n",
              "    .dataframe tbody tr th:only-of-type {\n",
              "        vertical-align: middle;\n",
              "    }\n",
              "\n",
              "    .dataframe tbody tr th {\n",
              "        vertical-align: top;\n",
              "    }\n",
              "\n",
              "    .dataframe thead th {\n",
              "        text-align: right;\n",
              "    }\n",
              "</style>\n",
              "<table border=\"1\" class=\"dataframe\">\n",
              "  <thead>\n",
              "    <tr style=\"text-align: right;\">\n",
              "      <th></th>\n",
              "      <th>City name</th>\n",
              "      <th>Population</th>\n",
              "      <th>new col</th>\n",
              "      <th>Area square miles</th>\n",
              "      <th>Population density</th>\n",
              "    </tr>\n",
              "  </thead>\n",
              "  <tbody>\n",
              "    <tr>\n",
              "      <th>0</th>\n",
              "      <td>San Francisco</td>\n",
              "      <td>852469</td>\n",
              "      <td>4262.345</td>\n",
              "      <td>46.87</td>\n",
              "      <td>18187.945381</td>\n",
              "    </tr>\n",
              "    <tr>\n",
              "      <th>1</th>\n",
              "      <td>San Jose</td>\n",
              "      <td>1015785</td>\n",
              "      <td>5078.925</td>\n",
              "      <td>176.53</td>\n",
              "      <td>5754.177760</td>\n",
              "    </tr>\n",
              "    <tr>\n",
              "      <th>2</th>\n",
              "      <td>Sacramento</td>\n",
              "      <td>485199</td>\n",
              "      <td>2425.995</td>\n",
              "      <td>97.92</td>\n",
              "      <td>4955.055147</td>\n",
              "    </tr>\n",
              "  </tbody>\n",
              "</table>\n",
              "</div>"
            ],
            "text/plain": [
              "       City name  Population   new col  Area square miles  Population density\n",
              "0  San Francisco      852469  4262.345              46.87        18187.945381\n",
              "1       San Jose     1015785  5078.925             176.53         5754.177760\n",
              "2     Sacramento      485199  2425.995              97.92         4955.055147"
            ]
          },
          "metadata": {
            "tags": []
          },
          "execution_count": 110
        }
      ]
    },
    {
      "cell_type": "code",
      "metadata": {
        "id": "_HrJHy0r2Hgj",
        "colab_type": "code",
        "colab": {
          "base_uri": "https://localhost:8080/",
          "height": 202
        },
        "outputId": "e9109b17-03ca-425a-db9c-7c1b27755e5d"
      },
      "source": [
        "data = pd.read_csv('https://raw.githubusercontent.com/korobool/hlll_course/master/tasks/data/titanic/test.csv')\n",
        "\n",
        "data.head()"
      ],
      "execution_count": 111,
      "outputs": [
        {
          "output_type": "execute_result",
          "data": {
            "text/html": [
              "<div>\n",
              "<style scoped>\n",
              "    .dataframe tbody tr th:only-of-type {\n",
              "        vertical-align: middle;\n",
              "    }\n",
              "\n",
              "    .dataframe tbody tr th {\n",
              "        vertical-align: top;\n",
              "    }\n",
              "\n",
              "    .dataframe thead th {\n",
              "        text-align: right;\n",
              "    }\n",
              "</style>\n",
              "<table border=\"1\" class=\"dataframe\">\n",
              "  <thead>\n",
              "    <tr style=\"text-align: right;\">\n",
              "      <th></th>\n",
              "      <th>PassengerId</th>\n",
              "      <th>Pclass</th>\n",
              "      <th>Name</th>\n",
              "      <th>Sex</th>\n",
              "      <th>Age</th>\n",
              "      <th>SibSp</th>\n",
              "      <th>Parch</th>\n",
              "      <th>Ticket</th>\n",
              "      <th>Fare</th>\n",
              "      <th>Cabin</th>\n",
              "      <th>Embarked</th>\n",
              "    </tr>\n",
              "  </thead>\n",
              "  <tbody>\n",
              "    <tr>\n",
              "      <th>0</th>\n",
              "      <td>892</td>\n",
              "      <td>3</td>\n",
              "      <td>Kelly, Mr. James</td>\n",
              "      <td>male</td>\n",
              "      <td>34.5</td>\n",
              "      <td>0</td>\n",
              "      <td>0</td>\n",
              "      <td>330911</td>\n",
              "      <td>7.8292</td>\n",
              "      <td>NaN</td>\n",
              "      <td>Q</td>\n",
              "    </tr>\n",
              "    <tr>\n",
              "      <th>1</th>\n",
              "      <td>893</td>\n",
              "      <td>3</td>\n",
              "      <td>Wilkes, Mrs. James (Ellen Needs)</td>\n",
              "      <td>female</td>\n",
              "      <td>47.0</td>\n",
              "      <td>1</td>\n",
              "      <td>0</td>\n",
              "      <td>363272</td>\n",
              "      <td>7.0000</td>\n",
              "      <td>NaN</td>\n",
              "      <td>S</td>\n",
              "    </tr>\n",
              "    <tr>\n",
              "      <th>2</th>\n",
              "      <td>894</td>\n",
              "      <td>2</td>\n",
              "      <td>Myles, Mr. Thomas Francis</td>\n",
              "      <td>male</td>\n",
              "      <td>62.0</td>\n",
              "      <td>0</td>\n",
              "      <td>0</td>\n",
              "      <td>240276</td>\n",
              "      <td>9.6875</td>\n",
              "      <td>NaN</td>\n",
              "      <td>Q</td>\n",
              "    </tr>\n",
              "    <tr>\n",
              "      <th>3</th>\n",
              "      <td>895</td>\n",
              "      <td>3</td>\n",
              "      <td>Wirz, Mr. Albert</td>\n",
              "      <td>male</td>\n",
              "      <td>27.0</td>\n",
              "      <td>0</td>\n",
              "      <td>0</td>\n",
              "      <td>315154</td>\n",
              "      <td>8.6625</td>\n",
              "      <td>NaN</td>\n",
              "      <td>S</td>\n",
              "    </tr>\n",
              "    <tr>\n",
              "      <th>4</th>\n",
              "      <td>896</td>\n",
              "      <td>3</td>\n",
              "      <td>Hirvonen, Mrs. Alexander (Helga E Lindqvist)</td>\n",
              "      <td>female</td>\n",
              "      <td>22.0</td>\n",
              "      <td>1</td>\n",
              "      <td>1</td>\n",
              "      <td>3101298</td>\n",
              "      <td>12.2875</td>\n",
              "      <td>NaN</td>\n",
              "      <td>S</td>\n",
              "    </tr>\n",
              "  </tbody>\n",
              "</table>\n",
              "</div>"
            ],
            "text/plain": [
              "   PassengerId  Pclass  ... Cabin Embarked\n",
              "0          892       3  ...   NaN        Q\n",
              "1          893       3  ...   NaN        S\n",
              "2          894       2  ...   NaN        Q\n",
              "3          895       3  ...   NaN        S\n",
              "4          896       3  ...   NaN        S\n",
              "\n",
              "[5 rows x 11 columns]"
            ]
          },
          "metadata": {
            "tags": []
          },
          "execution_count": 111
        }
      ]
    },
    {
      "cell_type": "markdown",
      "metadata": {
        "id": "5C19HyRO2Hgm",
        "colab_type": "text"
      },
      "source": [
        "### Conditional selection"
      ]
    },
    {
      "cell_type": "code",
      "metadata": {
        "id": "qmWdSJWe2Hgn",
        "colab_type": "code",
        "colab": {}
      },
      "source": [
        "df1 = data.loc[data['Sex']=='male', ['Fare']]\n",
        "df2 = data.loc[data['Sex']=='female', ['Fare']]"
      ],
      "execution_count": 0,
      "outputs": []
    },
    {
      "cell_type": "code",
      "metadata": {
        "id": "h3Z6dZPH2Hgp",
        "colab_type": "code",
        "colab": {
          "base_uri": "https://localhost:8080/",
          "height": 35
        },
        "outputId": "6e030dbf-3442-465c-9418-7c15a2245bac"
      },
      "source": [
        "mean_fare_male = df1['Fare'].mean()\n",
        "mean_fare_male"
      ],
      "execution_count": 113,
      "outputs": [
        {
          "output_type": "execute_result",
          "data": {
            "text/plain": [
              "27.52787698113209"
            ]
          },
          "metadata": {
            "tags": []
          },
          "execution_count": 113
        }
      ]
    },
    {
      "cell_type": "code",
      "metadata": {
        "id": "kZvkZNeb2Hgr",
        "colab_type": "code",
        "colab": {
          "base_uri": "https://localhost:8080/",
          "height": 35
        },
        "outputId": "0b725718-d79a-4917-84a7-77141b8535de"
      },
      "source": [
        "mean_fare_female = df2['Fare'].mean()\n",
        "mean_fare_female"
      ],
      "execution_count": 114,
      "outputs": [
        {
          "output_type": "execute_result",
          "data": {
            "text/plain": [
              "49.74769868421052"
            ]
          },
          "metadata": {
            "tags": []
          },
          "execution_count": 114
        }
      ]
    },
    {
      "cell_type": "markdown",
      "metadata": {
        "id": "-NR0GFn72Hgu",
        "colab_type": "text"
      },
      "source": [
        "### Average Fare For Men And Women"
      ]
    },
    {
      "cell_type": "code",
      "metadata": {
        "id": "h3xperrm2Hgv",
        "colab_type": "code",
        "colab": {
          "base_uri": "https://localhost:8080/",
          "height": 269
        },
        "outputId": "ff914c0a-084a-4802-8707-ce3b47c6b28b"
      },
      "source": [
        "import matplotlib.pyplot as plt\n",
        "import numpy as np\n",
        "\n",
        "x = ['male', 'female']\n",
        "y = [mean_fare_male, mean_fare_female]\n",
        "\n",
        "plt.bar(x, y)\n",
        "plt.show()"
      ],
      "execution_count": 115,
      "outputs": [
        {
          "output_type": "display_data",
          "data": {
            "image/png": "[encoded data removed]",
            "text/plain": [
              "<Figure size 432x288 with 1 Axes>"
            ]
          },
          "metadata": {
            "tags": []
          }
        }
      ]
    },
    {
      "cell_type": "code",
      "metadata": {
        "id": "5VIbPzY02Hgx",
        "colab_type": "code",
        "colab": {
          "base_uri": "https://localhost:8080/",
          "height": 255
        },
        "outputId": "7160bb76-eb36-40e6-8f8d-fffb6b5dc66a"
      },
      "source": [
        "# Plot\n",
        "plt.pie(y, labels=x, autopct='%1.1f%%', shadow=True, startangle=140)\n",
        "\n",
        "plt.axis('equal')\n",
        "plt.show()"
      ],
      "execution_count": 116,
      "outputs": [
        {
          "output_type": "display_data",
          "data": {
            "image/png": "[encoded data removed]",
            "text/plain": [
              "<Figure size 432x288 with 1 Axes>"
            ]
          },
          "metadata": {
            "tags": []
          }
        }
      ]
    },
    {
      "cell_type": "code",
      "metadata": {
        "id": "2ZIY22aq2Hgz",
        "colab_type": "code",
        "colab": {
          "base_uri": "https://localhost:8080/",
          "height": 269
        },
        "outputId": "487c363b-23a9-4555-aa26-53084201f25b"
      },
      "source": [
        "import matplotlib.pyplot as plt\n",
        "import numpy as np\n",
        "\n",
        "colors = ['gold', 'green', 'blue', 'grey']\n",
        "\n",
        "x = ['male', 'female']\n",
        "y = [mean_fare_male, mean_fare_female]\n",
        "\n",
        "fig, ax = plt.subplots(nrows=1, ncols=2)\n",
        "ax[0].bar(x, y, color = colors[:3])\n",
        "ax[1].pie(y, labels=x, colors=colors[2:], autopct='%1.1f%%', shadow=True, startangle=240)\n",
        "plt.show()"
      ],
      "execution_count": 117,
      "outputs": [
        {
          "output_type": "display_data",
          "data": {
            "image/png": "[encoded data removed]",
            "text/plain": [
              "<Figure size 432x288 with 2 Axes>"
            ]
          },
          "metadata": {
            "tags": []
          }
        }
      ]
    },
    {
      "cell_type": "markdown",
      "metadata": {
        "id": "1pBuiwskZLEb",
        "colab_type": "text"
      },
      "source": [
        "### Profiling\n",
        "\n",
        "For time profiling you can use a decorator like this"
      ]
    },
    {
      "cell_type": "code",
      "metadata": {
        "id": "NNzgZNuG2Hg2",
        "colab_type": "code",
        "colab": {}
      },
      "source": [
        "import datetime\n",
        "\n",
        "def time_func(function):\n",
        "  def new_func(*args, **kwargs):\n",
        "    # Start the clock.\n",
        "    start = datetime.datetime.now()\n",
        "    # Execute the function and record the results.\n",
        "    function_result = function(*args, **kwargs)\n",
        "    # Calculate the elapsed time and add it to the function\n",
        "    # attributes.\n",
        "    new_func.elapsed = datetime.datetime.now() - start\n",
        "    # Returned the function with the added elapsed attribute \n",
        "    print(new_func.elapsed)\n",
        "    return function_result\n",
        "  return new_func"
      ],
      "execution_count": 0,
      "outputs": []
    },
    {
      "cell_type": "markdown",
      "metadata": {
        "id": "HYwLpp8pZVYg",
        "colab_type": "text"
      },
      "source": [
        "If you wnat to profile memory such an approach can be useful (doesn't work in jupyter, so it is commented here)"
      ]
    },
    {
      "cell_type": "code",
      "metadata": {
        "id": "J2dl0pPaU-1k",
        "colab_type": "code",
        "colab": {}
      },
      "source": [
        "#!pip install memory_profiler\n",
        "# from memory_profiler import profile\n"
      ],
      "execution_count": 0,
      "outputs": []
    },
    {
      "cell_type": "code",
      "metadata": {
        "id": "hPDzR7h2TmT_",
        "colab_type": "code",
        "colab": {}
      },
      "source": [
        "# @profile\n",
        "@time_func  \n",
        "def example(line, line2='adsf'):\n",
        "    return(len(line)**15)"
      ],
      "execution_count": 0,
      "outputs": []
    },
    {
      "cell_type": "code",
      "metadata": {
        "id": "sZyLlNBAU0wW",
        "colab_type": "code",
        "colab": {
          "base_uri": "https://localhost:8080/",
          "height": 52
        },
        "outputId": "b96e457c-d9d9-473b-a197-e2f5c4c1ee42"
      },
      "source": [
        "example('foo')"
      ],
      "execution_count": 156,
      "outputs": [
        {
          "output_type": "stream",
          "text": [
            "0:00:00.000009\n"
          ],
          "name": "stdout"
        },
        {
          "output_type": "execute_result",
          "data": {
            "text/plain": [
              "14348907"
            ]
          },
          "metadata": {
            "tags": []
          },
          "execution_count": 156
        }
      ]
    },
    {
      "cell_type": "code",
      "metadata": {
        "id": "DRPBaOemYpzZ",
        "colab_type": "code",
        "colab": {}
      },
      "source": [
        ""
      ],
      "execution_count": 0,
      "outputs": []
    },
    {
      "cell_type": "markdown",
      "metadata": {
        "id": "Txa5tHdV2Hg1",
        "colab_type": "text"
      },
      "source": [
        "### Home Work\n",
        "\n",
        "See the task [here](https://github.com/korobool/hlll_course/blob/master/tasks/np_pandas.md)"
      ]
    },
    {
      "cell_type": "code",
      "metadata": {
        "id": "e5R8wTMrZh8w",
        "colab_type": "code",
        "colab": {}
      },
      "source": [
        ""
      ],
      "execution_count": 0,
      "outputs": []
    }
  ]
}