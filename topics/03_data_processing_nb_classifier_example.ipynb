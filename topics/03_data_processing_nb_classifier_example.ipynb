{
 "cells": [
  {
   "cell_type": "markdown",
   "metadata": {},
   "source": [
    "# Textual Data Manipulating \n",
    "\n",
    "**To be discussed:**\n",
    "\n",
    "  * Data Fetching, Twitter example\n",
    "  * Data preprocessing\n",
    "  * Textual Data\n",
    "    * String slicing\n",
    "    * regex\n",
    "    * stopwords\n",
    "    * unix utils\n",
    "  * First example for classification\n",
    "    * Problem of classification\n",
    "    * Probabilistic Methods And Frequency Based Classification\n",
    "    * Naive Bayes From Scratch And Scikit-learn\n",
    "    * Ovefitting And Regularization Example\n"
   ]
  },
  {
   "cell_type": "markdown",
   "metadata": {},
   "source": [
    "### Data Fetching, Twitter example\n",
    "* Data Scrapping\n",
    "    * scrapy\n",
    "    * headless browsers in general and selenium in particular\n",
    "* Fetch Data From Public Resources Using API\n",
    "    *For learning about practical aspects of this, you will go through the process of consuming Twitter API\n",
    "    * See and go throug [twitter example](https://github.com/korobool/hlll_course/blob/master/tasks/data_manipulatin.md)"
   ]
  },
  {
   "cell_type": "markdown",
   "metadata": {},
   "source": [
    "### Textual Data Preprocessing\n",
    "* RegEx\n",
    "* Tokenzation\n",
    "* Stopwords filtering\n",
    "* Lemmatization\n",
    "* Stemming\n"
   ]
  },
  {
   "cell_type": "markdown",
   "metadata": {},
   "source": [
    "### Classification Problem\n",
    "    * Naive Bayes Classifier\n",
    "    * Overfitting\n",
    "    * Regularization"
   ]
  },
  {
   "cell_type": "code",
   "execution_count": null,
   "metadata": {},
   "outputs": [],
   "source": []
  }
 ],
 "metadata": {
  "kernelspec": {
   "display_name": "Python 3",
   "language": "python",
   "name": "python3"
  },
  "language_info": {
   "codemirror_mode": {
    "name": "ipython",
    "version": 3
   },
   "file_extension": ".py",
   "mimetype": "text/x-python",
   "name": "python",
   "nbconvert_exporter": "python",
   "pygments_lexer": "ipython3",
   "version": "3.6.7"
  }
 },
 "nbformat": 4,
 "nbformat_minor": 2
}
