{
  "nbformat": 4,
  "nbformat_minor": 0,
  "metadata": {
    "colab": {
      "name": "SVM GridSearch Practice.ipynb",
      "version": "0.3.2",
      "provenance": [],
      "collapsed_sections": [],
      "include_colab_link": true
    },
    "kernelspec": {
      "display_name": "Python 3",
      "language": "python",
      "name": "python3"
    }
  },
  "cells": [
    {
      "cell_type": "markdown",
      "metadata": {
        "id": "view-in-github",
        "colab_type": "text"
      },
      "source": [
        "<a href=\"https://colab.research.google.com/github/atsiluyr/hlll_course/blob/master/SVM_GridSearch_Practice.ipynb\" target=\"_parent\"><img src=\"https://colab.research.google.com/assets/colab-badge.svg\" alt=\"Open In Colab\"/></a>"
      ]
    },
    {
      "cell_type": "markdown",
      "metadata": {
        "id": "4kum_EfNLCJT",
        "colab_type": "text"
      },
      "source": [
        "# Support Vector Machine Classifier (SVM, SVC)"
      ]
    },
    {
      "cell_type": "markdown",
      "metadata": {
        "id": "EIXftskxLCJT",
        "colab_type": "text"
      },
      "source": [
        "Support vector machines are supervised learning models with associated learning algorithms that analyze data used for classification and regression analysis."
      ]
    },
    {
      "cell_type": "code",
      "metadata": {
        "id": "x5jtsaftLCJV",
        "colab_type": "code",
        "colab": {}
      },
      "source": [
        "%matplotlib inline\n",
        "import numpy as np\n",
        "import matplotlib.pyplot as plt"
      ],
      "execution_count": 0,
      "outputs": []
    },
    {
      "cell_type": "code",
      "metadata": {
        "id": "Alkz7nAgLCJZ",
        "colab_type": "code",
        "colab": {}
      },
      "source": [
        "from sklearn.svm import SVC # \"Support vector classifier\"\n",
        "# model = SVC(kernel='poly', C=1E10)"
      ],
      "execution_count": 0,
      "outputs": []
    },
    {
      "cell_type": "code",
      "metadata": {
        "id": "b2TKtNLVLCJb",
        "colab_type": "code",
        "colab": {}
      },
      "source": [
        "def plot_svc_decision_function(model, ax=None, plot_support=True):\n",
        "    \"\"\"Plot the decision function for a 2D SVC\"\"\"\n",
        "    if ax is None:\n",
        "        ax = plt.gca()\n",
        "    xlim = ax.get_xlim()\n",
        "    ylim = ax.get_ylim()\n",
        "    \n",
        "    # create grid to evaluate model\n",
        "    x = np.linspace(xlim[0], xlim[1], 30)\n",
        "    y = np.linspace(ylim[0], ylim[1], 30)\n",
        "    Y, X = np.meshgrid(y, x)\n",
        "    xy = np.vstack([X.ravel(), Y.ravel()]).T\n",
        "    P = model.decision_function(xy).reshape(X.shape)\n",
        "    \n",
        "    # plot decision boundary and margins\n",
        "    ax.contour(X, Y, P, colors='k',\n",
        "               levels=[-1, 0, 1], alpha=0.5,\n",
        "               linestyles=['--', '-', '--'])\n",
        "    \n",
        "    # plot support vectors\n",
        "    if plot_support:\n",
        "        ax.scatter(model.support_vectors_[:, 0],\n",
        "                   model.support_vectors_[:, 1],\n",
        "                   s=300, linewidth=1, facecolors='none');\n",
        "    ax.set_xlim(xlim)\n",
        "    ax.set_ylim(ylim)\n"
      ],
      "execution_count": 0,
      "outputs": []
    },
    {
      "cell_type": "code",
      "metadata": {
        "id": "gDJHA9cILCJe",
        "colab_type": "code",
        "colab": {}
      },
      "source": [
        "from sklearn.datasets.samples_generator import make_circles\n",
        "X, y = make_circles(100, factor=.1, noise=.1)\n",
        "\n",
        "\n"
      ],
      "execution_count": 0,
      "outputs": []
    },
    {
      "cell_type": "code",
      "metadata": {
        "id": "YM1zNozPLCJq",
        "colab_type": "code",
        "outputId": "96f1251a-3948-4f21-d769-1b65de83e694",
        "colab": {
          "base_uri": "https://localhost:8080/",
          "height": 269
        }
      },
      "source": [
        "from sklearn.model_selection import train_test_split\n",
        "import pandas as pd\n",
        "import numpy as np\n",
        "\n",
        "from sklearn.datasets.samples_generator import make_blobs\n",
        "X, y = make_blobs(n_samples=300, centers=2, n_features=2,random_state=0)\n",
        "\n",
        "\n",
        "X_train, X_test, y_train, y_test = train_test_split(X, y, test_size=0.2)\n",
        "\n",
        "# clf = SVC(kernel='sigmoid').fit(X_train, y_train)\n",
        "clf = SVC(kernel='linear').fit(X_train, y_train)\n",
        "\n",
        "plt.scatter(X_train[:, 0], X_train[:, 1], c=y_train, s=50, cmap='autumn')\n",
        "#plt.scatter(X_test[:, 0], X_test[:, 1], c=y_test, s=50, cmap='winter')\n",
        "\n",
        "plot_svc_decision_function(clf, plot_support=False);\n"
      ],
      "execution_count": 0,
      "outputs": [
        {
          "output_type": "display_data",
          "data": {
            "image/png": "[encoded data removed]",
            "text/plain": [
              "<Figure size 432x288 with 1 Axes>"
            ]
          },
          "metadata": {
            "tags": []
          }
        }
      ]
    },
    {
      "cell_type": "code",
      "metadata": {
        "id": "zj90UNsGLCJw",
        "colab_type": "code",
        "colab": {}
      },
      "source": [
        "df = pd.DataFrame()\n",
        "df['predicted'] = clf.predict(X_test).astype(int)\n",
        "df['labels'] = y_test.astype(int)\n",
        "\n",
        "df['correct'] = np.where((df['predicted'] == df['labels']), True, False)\n",
        "\n",
        "#df[:]"
      ],
      "execution_count": 0,
      "outputs": []
    },
    {
      "cell_type": "markdown",
      "metadata": {
        "id": "OlhtlIaRLCJ4",
        "colab_type": "text"
      },
      "source": [
        "# Machine Learning metrics"
      ]
    },
    {
      "cell_type": "markdown",
      "metadata": {
        "id": "etqJHN_qLCJ5",
        "colab_type": "text"
      },
      "source": [
        "### Classification Accuracy"
      ]
    },
    {
      "cell_type": "markdown",
      "metadata": {
        "id": "A3EWjqRwLCJ6",
        "colab_type": "text"
      },
      "source": [
        "Classification Accuracy is what we usually mean, when we use the term accuracy. \n",
        "It is the ratio of number of correct predictions to the total number of input samples.\n",
        "$$Accuracy=\\frac{Number\\:of\\:Correct\\:predictions}{Total\\:number\\:of\\:predictions\\:made}$$\n",
        "\n",
        "It works well only if there are equal number of samples belonging to each class."
      ]
    },
    {
      "cell_type": "code",
      "metadata": {
        "id": "ZmNMImu5LCJ7",
        "colab_type": "code",
        "colab": {}
      },
      "source": [
        "### PUT HERE CODE THAT COMPUTES ACCURACY\n",
        "\n"
      ],
      "execution_count": 0,
      "outputs": []
    },
    {
      "cell_type": "markdown",
      "metadata": {
        "id": "I2G6sTGeLCJ-",
        "colab_type": "text"
      },
      "source": [
        "### Confusion Matrix"
      ]
    },
    {
      "cell_type": "markdown",
      "metadata": {
        "id": "3bhZ1399LCJ_",
        "colab_type": "text"
      },
      "source": [
        "Confusion Matrix as the name suggests gives us a matrix as output and describes the complete performance of the model.\n",
        "\n",
        "Lets assume we have a binary classification problem. We have some samples belonging to two classes : YES or NO. Also, we have our own classifier which predicts a class for a given input sample. On testing our model on 165 samples ,we get the following result.\n",
        "n=165  \n",
        "\n",
        "  \n",
        "|       -         |   Predicted: NO   |   Predicted: YES  |\n",
        "|-----------------|-------------------|-------------------|\n",
        "|   Actual  NO    |         50        |        10         |\n",
        "|   Actual  YES   |         5         |       100         |\n",
        "\n",
        "$$Confusion Matrix$$\n",
        "\n",
        "There are 4 important terms :\n",
        "\n",
        "* <b>True Positives</b> : The cases in which we predicted YES and the actual output was also YES.\n",
        "* <b>True Negatives</b> : The cases in which we predicted NO and the actual output was NO.\n",
        "* <b>False Positives</b> : The cases in which we predicted YES and the actual output was NO.\n",
        "* <b>False Negatives</b> : The cases in which we predicted NO and the actual output was YES.\n",
        "\n",
        "Accuracy for the matrix can be calculated by taking average of the values lying across the “<b>main diagonal</b>” i.e\n",
        "\n",
        "$$Accuracy=\\frac{True\\:Positives+False\\:Negatives}{Total\\:Number\\:of\\:Samples}$$\n",
        "\n",
        "Confusion Matrix forms the basis for the other types of metrics."
      ]
    },
    {
      "cell_type": "code",
      "metadata": {
        "id": "JW3uXusoLCKA",
        "colab_type": "code",
        "colab": {}
      },
      "source": [
        "### PUT HERE CODE THAT SHOWS CONFUSION MATRIX\n"
      ],
      "execution_count": 0,
      "outputs": []
    },
    {
      "cell_type": "markdown",
      "metadata": {
        "id": "mhUf744HLCKD",
        "colab_type": "text"
      },
      "source": [
        "### F1 Score"
      ]
    },
    {
      "cell_type": "markdown",
      "metadata": {
        "id": "p1lqrMuMLCKE",
        "colab_type": "text"
      },
      "source": [
        "<i>F1 Score is used to measure a test’s accuracy</i>\n",
        "\n",
        "F1 Score is the Harmonic Mean between precision and recall. The range for F1 Score is [0, 1]. It tells you how precise your classifier is (how many instances it classifies correctly), as well as how robust it is (it does not miss a significant number of instances).\n",
        "\n",
        "High precision but lower recall, gives you an extremely accurate, but it then misses a large number of instances that are difficult to classify. The greater the F1 Score, the better is the performance of our model. Mathematically, it can be expressed as :\n",
        "\n",
        "\n",
        "$$F1=2\\times\\frac{Precision\\times Recall}{Precision+Recall}$$\n",
        "\n",
        "F1 Score tries to find the balance between precision and recall.\n",
        "\n",
        "* <b>Precision</b> : It is the number of correct positive results divided by the number of positive results predicted by the classifier.\n",
        "$$Precision=\\frac{True\\:Positives}{True\\:Positives+False\\:Positives}$$\n",
        "\n",
        "\n",
        "* <b>Recall</b> : It is the number of correct positive results divided by the number of <b>all</b> relevant samples (all samples that should have been identified as positive).\n",
        "$$Recall=\\frac{True\\:Positives}{True\\:Positives+False\\:Negatives}$$"
      ]
    },
    {
      "cell_type": "code",
      "metadata": {
        "id": "qam4WgAImEWX",
        "colab_type": "code",
        "colab": {}
      },
      "source": [
        "### CLASS PRACTICAL TASK 1\n",
        "### INSERT HERE COMPUTATIONS FOR: ACC RC RP F1\n",
        "### Do it from scratch and using scikit-learn api\n",
        "\n",
        "\n",
        "### END YOUR BLOCK"
      ],
      "execution_count": 0,
      "outputs": []
    },
    {
      "cell_type": "code",
      "metadata": {
        "id": "pMhZmTs1LCKF",
        "colab_type": "code",
        "outputId": "4e874ae3-44dc-4f1f-9c87-233a4b6c3459",
        "colab": {
          "base_uri": "https://localhost:8080/",
          "height": 283
        }
      },
      "source": [
        "from sklearn.datasets import make_moons\n",
        "from matplotlib import pyplot\n",
        "from pandas import DataFrame\n",
        "# generate 2d classification dataset\n",
        "X, y = make_moons(n_samples=100, noise=0.1)\n",
        "# scatter plot, dots colored by class value\n",
        "df = DataFrame(dict(x=X[:,0], y=X[:,1], label=y))\n",
        "colors = {0:'red', 1:'blue'}\n",
        "fig, ax = pyplot.subplots()\n",
        "grouped = df.groupby('label')\n",
        "for key, group in grouped:\n",
        "    group.plot(ax=ax, kind='scatter', x='x', y='y', label=key, color=colors[key])\n",
        "pyplot.show()"
      ],
      "execution_count": 0,
      "outputs": [
        {
          "output_type": "display_data",
          "data": {
            "image/png": "[encoded data removed]",
            "text/plain": [
              "<Figure size 432x288 with 1 Axes>"
            ]
          },
          "metadata": {
            "tags": []
          }
        }
      ]
    },
    {
      "cell_type": "code",
      "metadata": {
        "id": "0nDesr2raayd",
        "colab_type": "code",
        "colab": {}
      },
      "source": [
        "### CLASS PRACTICAL TASK 2\n",
        "### CONSIDERING DATA PROVIDED ONE CELL ABOVE TRAIN AN SVM CLASSIFIER\n",
        "### AND PROVIDE MODEL EVALUATING AND CLASSES / DECISON BOUNDARY VISUALIZATION\n",
        "\n",
        "X_train, X_test, y_train, y_test = train_test_split(X, y, test_size=0.2)\n",
        "\n",
        "\n",
        "\n",
        "### END YOUR BLOCK"
      ],
      "execution_count": 0,
      "outputs": []
    },
    {
      "cell_type": "code",
      "metadata": {
        "id": "Q7MOKOzeRyN4",
        "colab_type": "code",
        "outputId": "707ca0e3-6ea6-4dd5-9cd1-ed90fd344bca",
        "colab": {
          "base_uri": "https://localhost:8080/",
          "height": 283
        }
      },
      "source": [
        "from sklearn.datasets import make_circles\n",
        "from matplotlib import pyplot\n",
        "from pandas import DataFrame\n",
        "# generate 2d classification dataset\n",
        "X, y = make_circles(n_samples=100, noise=0.05)\n",
        "# scatter plot, dots colored by class value\n",
        "df = DataFrame(dict(x=X[:,0], y=X[:,1], label=y))\n",
        "colors = {0:'red', 1:'blue'}\n",
        "fig, ax = pyplot.subplots()\n",
        "grouped = df.groupby('label')\n",
        "for key, group in grouped:\n",
        "    group.plot(ax=ax, kind='scatter', x='x', y='y', label=key, color=colors[key])\n",
        "pyplot.show()\n"
      ],
      "execution_count": 0,
      "outputs": [
        {
          "output_type": "display_data",
          "data": {
            "image/png": "[encoded data removed]",
            "text/plain": [
              "<Figure size 432x288 with 1 Axes>"
            ]
          },
          "metadata": {
            "tags": []
          }
        }
      ]
    },
    {
      "cell_type": "code",
      "metadata": {
        "id": "VURJZlUAXB0Q",
        "colab_type": "code",
        "colab": {}
      },
      "source": [
        "### CLASS PRACTICAL TASK 3\n",
        "### CONSIDERING DATA PROVIDED ONE CELL ABOVE TRAIN AN SVM CLASSIFIER\n",
        "### AND PROVIDE MODEL EVALUATING AND CLASSES AND DECISON BOUNDARY VISUALIZATION\n",
        "\n",
        "X_train, X_test, y_train, y_test = train_test_split(X, y, test_size=0.2)\n",
        "\n",
        "\n",
        "\n",
        "### AND YOUR BLOCK"
      ],
      "execution_count": 0,
      "outputs": []
    },
    {
      "cell_type": "code",
      "metadata": {
        "id": "Z7Iwwk2Goz2A",
        "colab_type": "code",
        "colab": {}
      },
      "source": [
        "### CLASS PRACTICAL TASK 4 - Do here OR in separate nbook\n",
        "### ASSUMING DATA COME FROM UNKNOWN SOURCE AND HAVE UNKNOWN INTERNAL \n",
        "### DISTRIBUTION FORM WE NEED TO DESING A CUSTOM FUNCTION FOR GRID SEARCH\n",
        "### OVER SVM CLASSIFIERS WITH DIFFERENT KERNELS AND HYPERPARAMETERS.\n",
        "### FUNCTION MUST HAVE FOLLOWING PROTOTYPE\n",
        "def find_classifier_grid(X, y):\n",
        "  \n",
        "  \n",
        "  \n",
        "  ### Here you should provide a loop \n",
        "  ### That goes throug 5 - 100 predefined options for SVM classifiers\n",
        "  ### with different kernels and additiona hypperparams\n",
        "  ### Train each model, evaluate, take the model with best f1 metric\n",
        "  ### and return the classifier instrance itself as 'clf'\n",
        "  ### and all SVM hyperparams including kernel inside 'hyperparams' dictionary\n",
        "\n",
        "  return clf, hyperparams\n",
        "\n",
        "### END YOUR BLOCK"
      ],
      "execution_count": 0,
      "outputs": []
    },
    {
      "cell_type": "code",
      "metadata": {
        "id": "BD_6PXB8cOXK",
        "colab_type": "code",
        "colab": {}
      },
      "source": [
        ""
      ],
      "execution_count": 0,
      "outputs": []
    }
  ]
}